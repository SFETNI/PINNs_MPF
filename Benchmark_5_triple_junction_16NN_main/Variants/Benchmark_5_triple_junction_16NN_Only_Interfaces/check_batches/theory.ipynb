{
  "cells": [
    {
      "attachments": {},
      "cell_type": "markdown",
      "metadata": {},
      "source": [
        "# Import"
      ]
    },
    {
      "cell_type": "code",
      "execution_count": 2,
      "metadata": {},
      "outputs": [
        {
          "name": "stdout",
          "output_type": "stream",
          "text": [
            "Defaulting to user installation because normal site-packages is not writeable\n",
            "Requirement already satisfied: pyDOE in /home/selfetni/.local/lib/python3.10/site-packages (0.3.8)\n",
            "Requirement already satisfied: numpy in /home/selfetni/.local/lib/python3.10/site-packages (from pyDOE) (1.24.1)\n",
            "Requirement already satisfied: scipy in /home/selfetni/.local/lib/python3.10/site-packages (from pyDOE) (1.10.0)\n",
            "\n",
            "\u001b[1m[\u001b[0m\u001b[34;49mnotice\u001b[0m\u001b[1;39;49m]\u001b[0m\u001b[39;49m A new release of pip is available: \u001b[0m\u001b[31;49m23.0\u001b[0m\u001b[39;49m -> \u001b[0m\u001b[32;49m23.1.2\u001b[0m\n",
            "\u001b[1m[\u001b[0m\u001b[34;49mnotice\u001b[0m\u001b[1;39;49m]\u001b[0m\u001b[39;49m To update, run: \u001b[0m\u001b[32;49mpip install --upgrade pip\u001b[0m\n"
          ]
        }
      ],
      "source": [
        "!pip install pyDOE"
      ]
    },
    {
      "cell_type": "code",
      "execution_count": 3,
      "metadata": {},
      "outputs": [
        {
          "name": "stderr",
          "output_type": "stream",
          "text": [
            "2023-05-26 18:05:08.194851: I tensorflow/core/platform/cpu_feature_guard.cc:193] This TensorFlow binary is optimized with oneAPI Deep Neural Network Library (oneDNN) to use the following CPU instructions in performance-critical operations:  AVX2 FMA\n",
            "To enable them in other operations, rebuild TensorFlow with the appropriate compiler flags.\n",
            "2023-05-26 18:05:08.291635: W tensorflow/compiler/xla/stream_executor/platform/default/dso_loader.cc:64] Could not load dynamic library 'libcudart.so.11.0'; dlerror: libcudart.so.11.0: cannot open shared object file: No such file or directory\n",
            "2023-05-26 18:05:08.291648: I tensorflow/compiler/xla/stream_executor/cuda/cudart_stub.cc:29] Ignore above cudart dlerror if you do not have a GPU set up on your machine.\n",
            "2023-05-26 18:05:11.522397: W tensorflow/compiler/xla/stream_executor/platform/default/dso_loader.cc:64] Could not load dynamic library 'libnvinfer.so.7'; dlerror: libnvinfer.so.7: cannot open shared object file: No such file or directory\n",
            "2023-05-26 18:05:11.522461: W tensorflow/compiler/xla/stream_executor/platform/default/dso_loader.cc:64] Could not load dynamic library 'libnvinfer_plugin.so.7'; dlerror: libnvinfer_plugin.so.7: cannot open shared object file: No such file or directory\n",
            "2023-05-26 18:05:11.522468: W tensorflow/compiler/tf2tensorrt/utils/py_utils.cc:38] TF-TRT Warning: Cannot dlopen some TensorRT libraries. If you would like to use Nvidia GPU with TensorRT, please make sure the missing libraries mentioned above are installed properly.\n"
          ]
        },
        {
          "name": "stdout",
          "output_type": "stream",
          "text": [
            "TensorFlow version: 2.11.0\n"
          ]
        }
      ],
      "source": [
        "import tensorflow as tf\n",
        "import datetime, os\n",
        "#hide tf logs \n",
        "os.environ['TF_CPP_MIN_LOG_LEVEL'] = '2'  # or any {'0', '1', '2'} \n",
        "#0 (default) shows all, 1 to filter out INFO logs, 2 to additionally filter out WARNING logs, and 3 to additionally filter out ERROR logs\n",
        "import scipy.optimize\n",
        "import scipy.io\n",
        "import numpy as np\n",
        "import matplotlib.pyplot as plt\n",
        "import matplotlib.gridspec as gridspec\n",
        "from mpl_toolkits.axes_grid1 import make_axes_locatable \n",
        "from mpl_toolkits.mplot3d import Axes3D\n",
        "import time\n",
        "from pyDOE import lhs         #Latin Hypercube Sampling\n",
        "import seaborn as sns \n",
        "import codecs, json\n",
        "import math\n",
        "# generates same random numbers each time\n",
        "np.random.seed(1234)\n",
        "tf.random.set_seed(1234)\n",
        "import random\n",
        "import datetime\n",
        "import shutil\n",
        "print(\"TensorFlow version: {}\".format(tf.__version__))\n",
        "import random\n",
        "from importlib import reload\n",
        "import PINN  # python files (classes)\n",
        "import pre_post\n",
        "from pre_post import *\n",
        "from PINN import *"
      ]
    },
    {
      "attachments": {},
      "cell_type": "markdown",
      "metadata": {
        "id": "cpz3S4qnpqWE"
      },
      "source": [
        "# Resolution of a Multi-Phase-Field problem using OPEN-PINN \n"
      ]
    },
    {
      "attachments": {},
      "cell_type": "markdown",
      "metadata": {},
      "source": [
        "## Theory"
      ]
    },
    {
      "attachments": {},
      "cell_type": "markdown",
      "metadata": {},
      "source": [
        "A general free energy description separating different physical phenomena, interfacial $f^{\\text {intf }}$, chemical $f^{\\text {chem }}$ and elastic energy $f^{\\text {elast }}$ "
      ]
    },
    {
      "attachments": {},
      "cell_type": "markdown",
      "metadata": {},
      "source": [
        "$F=\\int_{\\Omega} f^{\\text {intf }}+f^{\\text {chem }}+f^{\\text {elast }}$\n",
        "\n"
      ]
    },
    {
      "attachments": {},
      "cell_type": "markdown",
      "metadata": {},
      "source": [
        "other contributions like magnetic and electric energy may be added in future applications."
      ]
    },
    {
      "attachments": {},
      "cell_type": "markdown",
      "metadata": {},
      "source": [
        "The other contributions could be added added to the MPF free energy forumaltuion, such as the mechanical ($f^{chem}$) and magnetic ones."
      ]
    },
    {
      "attachments": {},
      "cell_type": "markdown",
      "metadata": {},
      "source": [
        "\\begin{aligned}\n",
        "f^{\\mathrm{intf}} & =\\sum_{\\alpha, \\beta=1, \\ldots, N, \\alpha \\neq \\beta} \\frac{4 \\sigma_{\\alpha \\beta}}{\\eta_{\\alpha \\beta}}\\left\\{-\\frac{\\eta_{\\alpha \\beta}^2}{\\pi^2} \\nabla \\phi_\\alpha \\cdot \\nabla \\phi_\\beta+\\phi_\\alpha \\phi_\\beta\\right\\}, \\\\\n",
        "f^{\\mathrm{chem}} & =\\sum_{\\alpha=1, \\ldots, N} h\\left(\\phi_\\alpha\\right) f_\\alpha\\left(c_\\alpha^i\\right)+\\tilde{\\mu}^i\\left(c^i-\\sum_{\\alpha=1, \\ldots, N} \\phi_\\alpha c_\\alpha^i\\right) \\\\\n",
        "f^{\\mathrm{elast}} & =\\frac{1}{2}\\left\\{\\sum_{\\alpha=1, \\ldots, N} h\\left(\\phi_\\alpha\\right)\\left(\\bar{\\epsilon}_\\alpha-\\bar{\\epsilon}_\\alpha^*-c_\\alpha^i \\bar{\\epsilon}_\\alpha^i\\right) \\overline{\\bar{C}}_\\alpha\\left(\\bar{\\epsilon}_\\alpha-\\bar{\\epsilon}_\\alpha^*-c_\\alpha^j \\bar{\\epsilon}_\\alpha^j\\right)\\right\\}\n",
        "\\end{aligned}"
      ]
    },
    {
      "attachments": {},
      "cell_type": "markdown",
      "metadata": {},
      "source": [
        "$\\alpha$ and $\\beta$. It may be anisotropic with respect to the relative orientation between the phases. $\\eta_{\\alpha \\beta}$ is the interface width."
      ]
    },
    {
      "attachments": {},
      "cell_type": "markdown",
      "metadata": {},
      "source": [
        "The sum convention over double indices of the components $i . N=N(x)$ is the local number of phases and we have the sum constraint."
      ]
    },
    {
      "attachments": {},
      "cell_type": "markdown",
      "metadata": {},
      "source": [
        "$$\n",
        "\\sum_{\\alpha=1, . ., N} \\phi_\\alpha=1\n",
        "$$\n",
        "$\\sigma_{\\alpha \\beta}$ is the energy of the interface between phase-or grain. "
      ]
    },
    {
      "attachments": {},
      "cell_type": "markdown",
      "metadata": {},
      "source": [
        "$[\\mu] = \\frac{\\text{L}^4}{\\text{T}}E $   : $    {m}^4{J}^{-1}{s}^{-1}$"
      ]
    },
    {
      "attachments": {},
      "cell_type": "markdown",
      "metadata": {},
      "source": [
        "$[\\sigma] = \\frac{\\text{E}}{\\text{L}^2}$  : $    {J}^{}{m}^{-2}$"
      ]
    },
    {
      "attachments": {},
      "cell_type": "markdown",
      "metadata": {},
      "source": [
        "$[L] =  {m}^3{J}^{-1}{s}^{-1}$"
      ]
    },
    {
      "attachments": {},
      "cell_type": "markdown",
      "metadata": {},
      "source": [
        "The MPF equations are derived :"
      ]
    },
    {
      "attachments": {},
      "cell_type": "markdown",
      "metadata": {},
      "source": [
        "$$\n",
        "\\dot{\\phi}_\\alpha=-\\sum_{\\beta=1, . ., N} \\frac{\\pi^2}{8 \\eta N} \\mu_{\\alpha \\beta}\\left(\\frac{\\delta F}{\\delta \\phi_\\alpha}-\\frac{\\delta F}{\\delta \\phi_\\beta}\\right) .\n",
        "$$"
      ]
    },
    {
      "attachments": {},
      "cell_type": "markdown",
      "metadata": {},
      "source": [
        "This is a superposition of dual phase changes between pairs of phases.\n",
        "$\\mu_{\\alpha \\beta}$ is defined individually for each pair of phases and can be treated in the thin interface limit replacing it by the effective mobility. \n",
        "Inserting the free energy from previous equations, we calculate explicitly:"
      ]
    },
    {
      "attachments": {},
      "cell_type": "markdown",
      "metadata": {},
      "source": [
        "$$\n",
        "\\begin{aligned}\n",
        "\\dot{\\phi}_\\alpha & =\\sum_{\\beta=1, . ., N} \\frac{\\mu_{\\alpha \\beta}}{N}\\left\\{\\sum_{\\gamma=1, . ., N}\\left[\\sigma_{\\beta \\gamma}-\\sigma_{\\alpha \\gamma}\\right] I_\\gamma+\\frac{\\pi^2}{8 \\eta} h^{\\prime} \\Delta g_{\\alpha \\beta}\\right\\}, \\\\\n",
        "I_\\gamma & =\\nabla^2 \\phi_\\gamma+\\frac{\\pi^2}{\\eta^2} \\phi_\\gamma .\n",
        "\\end{aligned}\n",
        "$$"
      ]
    },
    {
      "attachments": {},
      "cell_type": "markdown",
      "metadata": {},
      "source": [
        "\n",
        "$I_\\gamma$ is the generalized curvature term. For anisotropic interfacial energies the respective torque term has to be added . $\\Delta g_{\\alpha \\beta}$ comprises the derivative of the chemical free energy and the elastic free energy with respect to the phase-field variables. There arises, however, a consistency problem that remains unsolved to date: how to formulate an appropriate contour function $h\\left(\\phi_\\alpha\\right)$ for multiple junctions. A thermodynamically consistent form is the unity $h\\left(\\phi_\\alpha\\right)=\\phi_\\alpha$ with $h^{\\prime}=1$. However, this disturbs the traveling wave solution of the double obstacle potential.\n"
      ]
    },
    {
      "attachments": {},
      "cell_type": "markdown",
      "metadata": {},
      "source": [
        "A generalization of the contour function $h_{\\mathrm{DO}}$ which is suitable for multiple junctions and does not violate the sum constraint $\\sum_{\\alpha=1, \\ldots, N} h\\left(\\phi_\\alpha\\right)=1$ hardly seems possible. In most simulations using the MPF the so-called antisymmetric approximation, which resigns from thermodynamic consistency at the multiple junctions, is thus used."
      ]
    },
    {
      "attachments": {},
      "cell_type": "markdown",
      "metadata": {},
      "source": [
        " Ifweassume the same interface width and the same interfacial energies for all phases, it simplifies the MPF equation and allows for a more straightforward implementation. In this case, the MPF equation becomes:"
      ]
    },
    {
      "attachments": {},
      "cell_type": "markdown",
      "metadata": {},
      "source": [
        "$\\dot{\\phi}_\\alpha = \\sum_{\\beta=1}^{N} \\mu_{\\alpha\\beta}\\left[\\sigma(\\phi_\\beta - \\phi_\\alpha)\\nabla^2\\phi_\\alpha + \\frac{\\pi^2}{2\\eta^2}(\\phi_\\alpha - \\phi_\\beta) + \\frac{\\pi}{\\eta}\\sqrt{\\phi_\\alpha\\phi_\\beta}\\Delta g_{\\alpha\\beta}\\right] $\n",
        "\n"
      ]
    }
  ],
  "metadata": {
    "colab": {
      "provenance": []
    },
    "kernelspec": {
      "display_name": "base",
      "language": "python",
      "name": "python3"
    },
    "language_info": {
      "codemirror_mode": {
        "name": "ipython",
        "version": 3
      },
      "file_extension": ".py",
      "mimetype": "text/x-python",
      "name": "python",
      "nbconvert_exporter": "python",
      "pygments_lexer": "ipython3",
      "version": "3.10.6"
    },
    "vscode": {
      "interpreter": {
        "hash": "3f1eaf796cd438c1c36e8259311fa4d99193c56d874e270fd8d60e8202299779"
      }
    }
  },
  "nbformat": 4,
  "nbformat_minor": 0
}
