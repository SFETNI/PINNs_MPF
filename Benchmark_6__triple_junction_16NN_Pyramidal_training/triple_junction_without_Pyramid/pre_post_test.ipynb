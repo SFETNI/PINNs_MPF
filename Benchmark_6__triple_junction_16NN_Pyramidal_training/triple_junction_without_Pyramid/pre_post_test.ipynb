{
 "cells": [
  {
   "cell_type": "code",
   "execution_count": 1,
   "metadata": {},
   "outputs": [
    {
     "name": "stdout",
     "output_type": "stream",
     "text": [
      "Defaulting to user installation because normal site-packages is not writeable\n",
      "Requirement already satisfied: pyDOE in /home/selfetni/.local/lib/python3.10/site-packages (0.3.8)\n",
      "Requirement already satisfied: numpy in /home/selfetni/.local/lib/python3.10/site-packages (from pyDOE) (1.24.1)\n",
      "Requirement already satisfied: scipy in /home/selfetni/.local/lib/python3.10/site-packages (from pyDOE) (1.10.1)\n"
     ]
    },
    {
     "name": "stderr",
     "output_type": "stream",
     "text": [
      "2023-10-16 21:51:04.384824: I tensorflow/core/platform/cpu_feature_guard.cc:182] This TensorFlow binary is optimized to use available CPU instructions in performance-critical operations.\n",
      "To enable the following instructions: AVX2 FMA, in other operations, rebuild TensorFlow with the appropriate compiler flags.\n",
      "2023-10-16 21:51:04.862976: W tensorflow/compiler/tf2tensorrt/utils/py_utils.cc:38] TF-TRT Warning: Could not find TensorRT\n"
     ]
    }
   ],
   "source": [
    "import subprocess\n",
    "import sys\n",
    "\n",
    "\n",
    "#!/home/selfetni/anaconda3/bin/python3.9.19\n",
    "#print(\"PYTHON VERSION: \",sys.version)\n",
    "# Install pyDOE using pip\n",
    "subprocess.call(['pip', 'install', 'pyDOE'])\n",
    "\n",
    "#!pip install pyDOE\n",
    "\n",
    "\n",
    "import datetime, os\n",
    "#hide tf logs \n",
    "os.environ['TF_CPPclea_MIN_LOG_LEVEL'] = '2'  # or any {'0', '1', '2'} \n",
    "#0 (default) shows all, 1 to filter out INFO logs, 2 to additionally filter out WARNING logs, and 3 to additionally filter out ERROR logs\n",
    "import scipy.optimize\n",
    "import scipy.io\n",
    "import numpy as np\n",
    "import matplotlib.pyplot as plt\n",
    "import matplotlib.gridspec as gridspec\n",
    "from mpl_toolkits.axes_grid1 import make_axes_locatable\n",
    "from mpl_toolkits.mplot3d import Axes3D\n",
    "import time\n",
    "import psutil # memory usage\n",
    "from pyDOE import lhs         #Latin Hypercube Sampling\n",
    "\n",
    "import codecs, json  # save weights\n",
    "import math\n",
    "import glob\n",
    "#from numba import jit\n",
    "# generates same random numbers each time\n",
    "np.random.seed(1234)\n",
    "\n",
    "import random\n",
    "import datetime\n",
    "import shutil\n",
    "\n",
    "import random\n",
    "import scipy.io as sio\n",
    "from importlib import reload\n",
    "\n",
    "\n",
    "import PINN  # python files (classes)\n",
    "import pre_post\n",
    "from pre_post import *\n",
    "from PINN import *\n"
   ]
  },
  {
   "cell_type": "code",
   "execution_count": 31,
   "metadata": {},
   "outputs": [
    {
     "name": "stdout",
     "output_type": "stream",
     "text": [
      "X_phi_test (40804000, 4)\n",
      "X_f_train: (64000000, 4), X_ini_all: (40804, 4), X_lb_train: (64000, 3), X_ub_train: (64000, 3), X_ltb_train: (64000, 3), X_rtb_train: (64000, 3), phi_ini_all: (40804, 4)\n",
      "\n",
      " ! Initilization of all workers pinns \n",
      "\n"
     ]
    }
   ],
   "source": [
    "##################################################\n",
    "##################################################\n",
    "##################################################\n",
    "if __name__ == '__main__':     ###################\n",
    "##################################################\n",
    "##################################################\n",
    "##################################################    \n",
    "    #inputs = read_inputs_from_file(\"Input.txt\")\n",
    "\n",
    "    # Grid parameters\n",
    "    Nx=101\n",
    "    Ny=101\n",
    "    Nt=1000  # 500 if los_f\n",
    " \n",
    "    # Define the domain bounds\n",
    "    lb = np.array([0, 0,0])\n",
    "    ub = np.array([1, 1,1]) #np.array([Nx, Ny,Nt])\n",
    "    dx = 1 #(ub[0] - lb[0]) / (Nx - 1)\n",
    "    dy = 1 #(ub[1] - lb[1]) / (Ny - 1)\n",
    "    \n",
    "    # phyisical parameters\n",
    "    sigma= 2\n",
    "    mu= 1e-2\n",
    "    eta=4*dx  # good value 3.5\n",
    "    delta_g= -40\n",
    "\n",
    " \n",
    "    \n",
    "    num_phases=4\n",
    "    loc_index_0 = 0\n",
    "    loc_index_1 = 1\n",
    "    loc_index_2 = 2\n",
    "    loc_index_3 = 3\n",
    "    all_phases_indexes= [loc_index_0, loc_index_1, loc_index_2, loc_index_3]\n",
    "    \n",
    "    N_batches=64      # base of the pyramid\n",
    "    min_batch_numbers =4 # upper surface of the pyramid\n",
    "    # Training batch \n",
    "    Nbr_f_pts_max_per_batch= 1000 #1000\n",
    "    Nbr_f_pts_min_per_batch= 100 #100\n",
    "    N_ini_max_per_batch=25 #50   \n",
    "    N_ini_min_per_batch= 2 #4      \n",
    "    fraction_ones_per_int_pts=0.35\n",
    "    coef_increase_points_f=3 # or decrease\n",
    "    coef_increase_points_ic=1.5 # or decrease\n",
    "\n",
    "    num_train_intervals=Nt\n",
    "    # Define  Collocations, IC and BC points and Domain bounds\n",
    "    N_ini =N_batches *num_train_intervals # Total number of data points for 'phi': IC\n",
    "    N_f = Nbr_f_pts_max_per_batch * N_batches *num_train_intervals    # 100000 Total number of collocation points : domain\n",
    "    N_b=N_batches*Nt   # Total number of data points for boundary BC\n",
    "        \n",
    "    # Total number of data points for 'phi': boundary BC\n",
    "\n",
    "    x = np.unique(np.linspace(lb[0], ub[0], Nx))\n",
    "    y = np.unique(np.linspace(lb[1], ub[1], Ny))\n",
    "    t = np.unique(np.linspace(lb[2], ub[2], Nt))\n",
    "    f_values = [0, 0.33, 0.67, 1]\n",
    "\n",
    "    # Generate all combinations of x, y, t, and f\n",
    "    X, Y, T, F = np.meshgrid(np.linspace(lb[0], ub[0], Nx),\n",
    "                            np.linspace(lb[1], ub[1], Ny),\n",
    "                            np.linspace(lb[2], ub[2], Nt),\n",
    "                            f_values,\n",
    "                            indexing='ij')\n",
    "\n",
    "    # Reshape the arrays to create the test matrix\n",
    "    # = np.column_stack((X.flatten(), Y.flatten(), T.flatten(), F.flatten()))\n",
    "    #np.savez('X_phi_test.npz', X_phi_test=X_phi_test)\n",
    "    \n",
    "    \n",
    "    #X_phi_test = np.load('X_phi_test.npz')['arr_0']\n",
    "    data = np.load('X_phi_test.npz')\n",
    "    X_phi_test= data['X_phi_test']\n",
    "    print(\"X_phi_test\", X_phi_test.shape)\n",
    "    \n",
    "    tb = np.linspace(start=lb[2], stop=ub[2], num=N_b, endpoint=True)\n",
    "    tb = np.expand_dims(tb, axis=1)\n",
    "    \n",
    "    # set the saving paths and erase older results\n",
    "    global pathOutput\n",
    "    pathOutput = os.path.join(os.getcwd(),'save_figs')\n",
    "    if not os.path.isdir(pathOutput):\n",
    "        os.mkdir(pathOutput)\n",
    "    global pathInput\n",
    "    pathInput = os.path.join(os.getcwd(),'Initialization')\n",
    "    if not os.path.isdir(pathInput):\n",
    "        os.mkdir(pathInput)\n",
    "    # to store the weights for each time interval \n",
    "    path_weights= os.path.join(os.getcwd(),'weights')\n",
    "    if not os.path.isdir(path_weights):\n",
    "        os.mkdir(path_weights)\n",
    "\n",
    "    # load PrePost class\n",
    "    reload(pre_post) # for re-execution after modif\n",
    "    from pre_post import *\n",
    "    Pre_Post=PrePost(X=X,T=None, lb=lb, ub=ub, Nx=Nx,Ny=Ny,dx=dx,dy=dy,x=x,y=y, eta=eta,\\\n",
    "                      phi_true=None)\n",
    "\n",
    "    # set the save paths and erase older results\n",
    "    Pre_Post.EraseFile(path=pathOutput)\n",
    "    Pre_Post.EraseFile(path=path_weights)\n",
    "    Pre_Post.EraseFile(path=os.path.join(os.getcwd(),'test_IC'))\n",
    "    #Pre_Post.EraseFile(path=pathInput) # Initialization \n",
    " \n",
    "    # Initialize phases\n",
    "    \n",
    "    phases_indexes,all_flags_matrix, all_phases,\\\n",
    "        all_interfaces=Pre_Post.initialize_phases(all_phases_indexes,pathInput)\n",
    "    \n",
    "    # Save into a dictionary\n",
    "    Initilization_Data = {'phases_indexes': phases_indexes,\\\n",
    "        'all_flags_matrix': all_flags_matrix,\\\n",
    "        'all_phases': all_phases,\\\n",
    "        'all_interfaces': all_interfaces}\n",
    "    #np.savez('Initilization_Data.npz', **Initilization_Data)\n",
    "    \n",
    "    \"\"\"\n",
    "    # Load initialization \n",
    "    loaded_data = np.load('Initilization_Data.npz')\n",
    "    phases_indexes = loaded_data['phases_indexes']\n",
    "    all_flags_matrix = loaded_data['all_flags_matrix']\n",
    "    all_phases = loaded_data['all_phases']\n",
    "    all_interfaces = loaded_data['all_interfaces']\n",
    "    \n",
    "    tf.print(\"phases_indexes shape:\", phases_indexes.shape)\n",
    "    tf.print(\"all_flags_matrix shape:\", all_flags_matrix.shape)\n",
    "    tf.print(\"all_phases shape:\", all_phases.shape)\n",
    "    tf.print(\"all_interfaces shape:\", all_interfaces.shape)\n",
    "    \"\"\"\n",
    "    # plot the initial micro\n",
    "    #Pre_Post.plot_init(all_phases,all_phases,Nx,Ny,path=pathOutput)\n",
    "    \n",
    "    # get the training data\n",
    "    X_f_train, X_ini_train_all,X_lb_train,X_ub_train,X_rtb_train,X_ltb_train,phi_ini_all =Pre_Post.set_training_data(x,y,f_values,N_ini,\\\n",
    "        all_phases, all_interfaces,all_flags_matrix,N_f,tb,lb,ub,path=pathOutput)\n",
    "    \n",
    "    # Plot Collocation_IC_BC points\n",
    "    #Pre_Post.plot_Collocation_IC_BC(Nx,Ny,x,y,X_ini_train,X_f_train,X_lb_train,X_ub_train,\\\n",
    "        \n",
    "    # load PINN class\n",
    "    import PINN\n",
    "    reload(PINN)  # mandatory to reload content at each re-call atfer modification\n",
    "    from PINN import *\n",
    "    \n",
    "    ######################################################################## \n",
    "    # Build PINN \n",
    "    layers = np.array([4,128,128,128,128,1])  # Network\n",
    "    PINN_ = Sequentialmodel(layers=layers, X_f_train=X_f_train, X_ini_train=X_ini_train_all,\\\n",
    "                            phases_ini_indexes=phases_indexes,all_ini_flags_matrix=all_flags_matrix,\\\n",
    "                            Phi_ini=all_phases,phi_ini_train=phi_ini_all, N_ini=N_ini,X_phi_test=X_phi_test,\\\n",
    "                            X_ini_train_all=X_ini_train_all, phi_ini_train_all=phi_ini_all,\\\n",
    "                                all_interfaces=all_interfaces,\\\n",
    "                            X_lb_train=X_lb_train, X_ub_train=X_ub_train,\\\n",
    "                            X_ltb_train=X_ltb_train, X_rtb_train=X_rtb_train,\\\n",
    "                            X=X,Y=Y,T=T,x=x,y=y,lb=lb, ub=ub, mu=mu, sigma=sigma, delta_g=delta_g,\\\n",
    "                            eta=eta,Nx=Nx,Ny=Ny,Nt=Nt,phi_sol=None,pinns =None,num_phases=num_phases,\n",
    "                            N_batches=N_batches,\\\n",
    "                            Nbr_f_pts_max_per_batch=Nbr_f_pts_max_per_batch,\\\n",
    "                            Nbr_f_pts_min_per_batch=Nbr_f_pts_min_per_batch,\\\n",
    "                            N_ini_max_per_batch=N_ini_max_per_batch,\\\n",
    "                            N_ini_min_per_batch=N_ini_min_per_batch)\n",
    "    ########################################################################   \n",
    "    # New dir for pinns (the workers) and initialization\n",
    "    path_weights_all_pinns= os.path.join(os.getcwd(),'weights_all_workers_pinns')\n",
    "    if not os.path.isdir(path_weights_all_pinns):\n",
    "        os.mkdir(path_weights_all_pinns)\n",
    "    pinns=PINN_.Initialize_pinns(path_weights_all_pinns)  \n",
    "    ########################################################################      \n",
    "    # transfer learning from already trained model\n",
    "    set_weights_PINN=0\n",
    "    if set_weights_PINN==1:\n",
    "        PINN_.set_weights_Master_PINN()\n",
    "        pinns=PINN_.Initialize_pinns(path_weights_all_pinns) \n",
    "        PINN_.test_IC(N_batches,\"test_IC\")\n",
    "    ########################################################################  \n",
    "    \n",
    "    ########################################################################     \n",
    "    get_initial_weights_pinns=False\n",
    "    restart_simu=0 # raise this flag only if the simulation is restarted (e.g. not finished, no weights are saved)\n",
    "    if get_initial_weights_pinns==True:\n",
    "        path_get_weights_all_pinns= os.path.join(os.getcwd(),'get_weights_all_workers_pinns')\n",
    "        if os.path.exists(path_get_weights_all_pinns) and restart_simu==0:\n",
    "            tf.print(\"!!! removing old 'get_weights_all_workers_pinns' directory !!!\")\n",
    "            time.sleep(5)  # by security \n",
    "            shutil.rmtree(path_get_weights_all_pinns)\n",
    "            shutil.copytree(path_weights_all_pinns, path_get_weights_all_pinns)\n",
    "            \n",
    "        PINN_.set_weights_all_pinns(N_batches,pinns)\n",
    "        PINN_.test_IC(N_batches,\"test_IC\")\n",
    "    Pre_Post.EraseFile(path=path_weights_all_pinns)\n",
    "    ########################################################################      \n",
    "    \n",
    "    # train the Master model\n",
    "    global Nfeval\n",
    "    Nfeval = 1 #(c.f. PINN.py -- scipy optimizer)\n",
    "    start_time = time.time() \n",
    "    ########################################################################  \n",
    "      \n",
    "      \n",
    "      \n",
    "    list_loss= PINN_.train(epochs=1,batch_size_max=1000,thresh= 1e-2,epoch_scipy_opt=21,epoch_print=1,\\\n",
    "                            epoch_resample=1,initial_check=True,save_reg_int=500000,\\\n",
    "                            num_train_intervals=num_train_intervals,\\\n",
    "                            discrete_resolv=True,fraction_ones_per_int_pts=fraction_ones_per_int_pts,\\\n",
    "                                coef_increase_points_f=coef_increase_points_f,\\\n",
    "                                coef_increase_points_ic=coef_increase_points_ic,\\\n",
    "                            path=pathOutput,pinns =pinns,path_weights_all_pinns=path_weights_all_pinns,\\\n",
    "                                save_weights_pinns=True,communicate_pinns=False,\\\n",
    "                                    change_pinn_candidate=False,Thresh_Master=1e-2,optimize_master=False )  \n",
    "\n",
    "    elapsed = time.time() - start_time  \n",
    "    tf.print(\"Training time : \" + (str(datetime.timedelta(seconds=elapsed))) )\n",
    "    "
   ]
  },
  {
   "cell_type": "code",
   "execution_count": 34,
   "metadata": {},
   "outputs": [
    {
     "name": "stdout",
     "output_type": "stream",
     "text": [
      "\n",
      " -------------------------------------------------------------\n",
      "  -----  Epoch: 0 <==> N_batches: 64, pinns: 64    -------\n",
      "  ----- time domain:  t_min: 0.00000, t_max: 0.00100\n",
      "--------------------------------------------------------------\n",
      "\n"
     ]
    },
    {
     "name": "stderr",
     "output_type": "stream",
     "text": [
      "2023-08-27 03:26:09.630216: W tensorflow/core/framework/op_kernel.cc:1828] OP_REQUIRES failed at strided_slice_op.cc:117 : INVALID_ARGUMENT: slice index 1 of dimension 1 out of bounds.\n",
      "2023-08-27 03:26:09.631495: W tensorflow/core/framework/op_kernel.cc:1828] OP_REQUIRES failed at strided_slice_op.cc:117 : INVALID_ARGUMENT: slice index 1 of dimension 1 out of bounds.\n",
      "2023-08-27 03:26:09.639933: W tensorflow/core/framework/op_kernel.cc:1828] OP_REQUIRES failed at strided_slice_op.cc:117 : INVALID_ARGUMENT: slice index 1 of dimension 1 out of bounds.\n",
      "2023-08-27 03:26:09.646020: W tensorflow/core/framework/op_kernel.cc:1828] OP_REQUIRES failed at strided_slice_op.cc:117 : INVALID_ARGUMENT: slice index 1 of dimension 1 out of bounds.\n",
      "2023-08-27 03:26:09.649468: W tensorflow/core/framework/op_kernel.cc:1828] OP_REQUIRES failed at strided_slice_op.cc:117 : INVALID_ARGUMENT: slice index 1 of dimension 1 out of bounds.\n",
      "2023-08-27 03:26:09.649708: W tensorflow/core/framework/op_kernel.cc:1828] OP_REQUIRES failed at strided_slice_op.cc:117 : INVALID_ARGUMENT: slice index 1 of dimension 1 out of bounds.\n",
      "2023-08-27 03:26:09.652275: W tensorflow/core/framework/op_kernel.cc:1828] OP_REQUIRES failed at strided_slice_op.cc:117 : INVALID_ARGUMENT: slice index 1 of dimension 1 out of bounds.\n",
      "2023-08-27 03:26:09.654505: W tensorflow/core/framework/op_kernel.cc:1828] OP_REQUIRES failed at strided_slice_op.cc:117 : INVALID_ARGUMENT: slice index 1 of dimension 1 out of bounds.\n",
      "2023-08-27 03:26:09.654831: W tensorflow/core/framework/op_kernel.cc:1828] OP_REQUIRES failed at strided_slice_op.cc:117 : INVALID_ARGUMENT: slice index 1 of dimension 1 out of bounds.\n",
      "2023-08-27 03:26:09.655631: W tensorflow/core/framework/op_kernel.cc:1828] OP_REQUIRES failed at strided_slice_op.cc:117 : INVALID_ARGUMENT: slice index 1 of dimension 1 out of bounds.\n",
      "2023-08-27 03:26:09.661034: W tensorflow/core/framework/op_kernel.cc:1828] OP_REQUIRES failed at strided_slice_op.cc:117 : INVALID_ARGUMENT: slice index 1 of dimension 1 out of bounds.\n",
      "2023-08-27 03:26:09.668294: W tensorflow/core/framework/op_kernel.cc:1828] OP_REQUIRES failed at strided_slice_op.cc:117 : INVALID_ARGUMENT: slice index 1 of dimension 1 out of bounds.\n",
      "2023-08-27 03:26:09.670356: W tensorflow/core/framework/op_kernel.cc:1828] OP_REQUIRES failed at strided_slice_op.cc:117 : INVALID_ARGUMENT: slice index 1 of dimension 1 out of bounds.\n",
      "2023-08-27 03:26:09.671371: W tensorflow/core/framework/op_kernel.cc:1828] OP_REQUIRES failed at strided_slice_op.cc:117 : INVALID_ARGUMENT: slice index 1 of dimension 1 out of bounds.\n",
      "2023-08-27 03:26:09.673326: W tensorflow/core/framework/op_kernel.cc:1828] OP_REQUIRES failed at strided_slice_op.cc:117 : INVALID_ARGUMENT: slice index 1 of dimension 1 out of bounds.\n",
      "2023-08-27 03:26:09.673796: W tensorflow/core/framework/op_kernel.cc:1828] OP_REQUIRES failed at strided_slice_op.cc:117 : INVALID_ARGUMENT: slice index 1 of dimension 1 out of bounds.\n",
      "2023-08-27 03:26:09.675120: W tensorflow/core/framework/op_kernel.cc:1828] OP_REQUIRES failed at strided_slice_op.cc:117 : INVALID_ARGUMENT: slice index 1 of dimension 1 out of bounds.\n",
      "2023-08-27 03:26:09.676031: W tensorflow/core/framework/op_kernel.cc:1828] OP_REQUIRES failed at strided_slice_op.cc:117 : INVALID_ARGUMENT: slice index 1 of dimension 1 out of bounds.\n",
      "2023-08-27 03:26:09.676707: W tensorflow/core/framework/op_kernel.cc:1828] OP_REQUIRES failed at strided_slice_op.cc:117 : INVALID_ARGUMENT: slice index 1 of dimension 1 out of bounds.\n",
      "2023-08-27 03:26:09.677058: W tensorflow/core/framework/op_kernel.cc:1828] OP_REQUIRES failed at strided_slice_op.cc:117 : INVALID_ARGUMENT: slice index 1 of dimension 1 out of bounds.\n",
      "2023-08-27 03:26:09.678796: W tensorflow/core/framework/op_kernel.cc:1828] OP_REQUIRES failed at strided_slice_op.cc:117 : INVALID_ARGUMENT: slice index 1 of dimension 1 out of bounds.\n",
      "2023-08-27 03:26:09.679047: W tensorflow/core/framework/op_kernel.cc:1828] OP_REQUIRES failed at strided_slice_op.cc:117 : INVALID_ARGUMENT: slice index 1 of dimension 1 out of bounds.\n",
      "2023-08-27 03:26:09.679461: W tensorflow/core/framework/op_kernel.cc:1828] OP_REQUIRES failed at strided_slice_op.cc:117 : INVALID_ARGUMENT: slice index 1 of dimension 1 out of bounds.\n",
      "2023-08-27 03:26:09.680467: W tensorflow/core/framework/op_kernel.cc:1828] OP_REQUIRES failed at strided_slice_op.cc:117 : INVALID_ARGUMENT: slice index 1 of dimension 1 out of bounds.\n",
      "2023-08-27 03:26:09.680715: W tensorflow/core/framework/op_kernel.cc:1828] OP_REQUIRES failed at strided_slice_op.cc:117 : INVALID_ARGUMENT: slice index 1 of dimension 1 out of bounds.\n",
      "2023-08-27 03:26:09.682009: W tensorflow/core/framework/op_kernel.cc:1828] OP_REQUIRES failed at strided_slice_op.cc:117 : INVALID_ARGUMENT: slice index 1 of dimension 1 out of bounds.\n",
      "2023-08-27 03:26:09.682337: W tensorflow/core/framework/op_kernel.cc:1828] OP_REQUIRES failed at strided_slice_op.cc:117 : INVALID_ARGUMENT: slice index 1 of dimension 1 out of bounds.\n",
      "2023-08-27 03:26:09.683739: W tensorflow/core/framework/op_kernel.cc:1828] OP_REQUIRES failed at strided_slice_op.cc:117 : INVALID_ARGUMENT: slice index 1 of dimension 1 out of bounds.\n",
      "2023-08-27 03:26:09.685348: W tensorflow/core/framework/op_kernel.cc:1828] OP_REQUIRES failed at strided_slice_op.cc:117 : INVALID_ARGUMENT: slice index 1 of dimension 1 out of bounds.\n",
      "2023-08-27 03:26:09.687172: W tensorflow/core/framework/op_kernel.cc:1828] OP_REQUIRES failed at strided_slice_op.cc:117 : INVALID_ARGUMENT: slice index 1 of dimension 1 out of bounds.\n",
      "2023-08-27 03:26:09.687329: W tensorflow/core/framework/op_kernel.cc:1828] OP_REQUIRES failed at strided_slice_op.cc:117 : INVALID_ARGUMENT: slice index 1 of dimension 1 out of bounds.\n",
      "2023-08-27 03:26:09.687485: W tensorflow/core/framework/op_kernel.cc:1828] OP_REQUIRES failed at strided_slice_op.cc:117 : INVALID_ARGUMENT: slice index 1 of dimension 1 out of bounds.\n",
      "2023-08-27 03:26:09.687728: W tensorflow/core/framework/op_kernel.cc:1828] OP_REQUIRES failed at strided_slice_op.cc:117 : INVALID_ARGUMENT: slice index 1 of dimension 1 out of bounds.\n"
     ]
    },
    {
     "ename": "InvalidArgumentError",
     "evalue": "{{function_node __wrapped__StridedSlice_device_/job:localhost/replica:0/task:0/device:CPU:0}} slice index 1 of dimension 1 out of bounds. [Op:StridedSlice] name: strided_slice/",
     "output_type": "error",
     "traceback": [
      "\u001b[0;31m---------------------------------------------------------------------------\u001b[0m",
      "\u001b[0;31mInvalidArgumentError\u001b[0m                      Traceback (most recent call last)",
      "\u001b[0;32m/tmp/ipykernel_2628937/1926739887.py\u001b[0m in \u001b[0;36m<module>\u001b[0;34m\u001b[0m\n\u001b[1;32m      7\u001b[0m \u001b[0;34m\u001b[0m\u001b[0m\n\u001b[1;32m      8\u001b[0m \u001b[0;34m\u001b[0m\u001b[0m\n\u001b[0;32m----> 9\u001b[0;31m list_loss= PINN_.train(epochs=1,batch_size_max=1000,thresh= 1e-2,epoch_scipy_opt=21,epoch_print=1,\\\n\u001b[0m\u001b[1;32m     10\u001b[0m                         \u001b[0mepoch_resample\u001b[0m\u001b[0;34m=\u001b[0m\u001b[0;36m1\u001b[0m\u001b[0;34m,\u001b[0m\u001b[0minitial_check\u001b[0m\u001b[0;34m=\u001b[0m\u001b[0;32mTrue\u001b[0m\u001b[0;34m,\u001b[0m\u001b[0msave_reg_int\u001b[0m\u001b[0;34m=\u001b[0m\u001b[0;36m500000\u001b[0m\u001b[0;34m,\u001b[0m\u001b[0;31m\\\u001b[0m\u001b[0;34m\u001b[0m\u001b[0;34m\u001b[0m\u001b[0m\n\u001b[1;32m     11\u001b[0m                         \u001b[0mnum_train_intervals\u001b[0m\u001b[0;34m=\u001b[0m\u001b[0mnum_train_intervals\u001b[0m\u001b[0;34m,\u001b[0m\u001b[0;31m\\\u001b[0m\u001b[0;34m\u001b[0m\u001b[0;34m\u001b[0m\u001b[0m\n",
      "\u001b[0;32m~/Simulations/PINN/Triple_Junction/triple_junction_2D_V37_3/PINN.py\u001b[0m in \u001b[0;36mtrain\u001b[0;34m(self, epochs, batch_size_max, thresh, epoch_scipy_opt, epoch_print, epoch_resample, initial_check, save_reg_int, num_train_intervals, discrete_resolv, fraction_ones_per_int_pts, coef_increase_points_f, coef_increase_points_ic, path, pinns, path_weights_all_pinns, save_weights_pinns, communicate_pinns, change_pinn_candidate, Thresh_Master, optimize_master)\u001b[0m\n\u001b[1;32m   2046\u001b[0m                                 \u001b[0mmax_loss\u001b[0m \u001b[0;34m=\u001b[0m \u001b[0mloss\u001b[0m\u001b[0;34m\u001b[0m\u001b[0;34m\u001b[0m\u001b[0m\n\u001b[1;32m   2047\u001b[0m                                 \u001b[0mmax_loss_idx\u001b[0m \u001b[0;34m=\u001b[0m \u001b[0mpinn\u001b[0m\u001b[0;34m.\u001b[0m\u001b[0midx_batch\u001b[0m\u001b[0;34m\u001b[0m\u001b[0;34m\u001b[0m\u001b[0m\n\u001b[0;32m-> 2048\u001b[0;31m \u001b[0;34m\u001b[0m\u001b[0m\n\u001b[0m\u001b[1;32m   2049\u001b[0m \u001b[0;34m\u001b[0m\u001b[0m\n\u001b[1;32m   2050\u001b[0m                             \u001b[0;32mif\u001b[0m \u001b[0mloss\u001b[0m \u001b[0;34m<\u001b[0m \u001b[0mself\u001b[0m\u001b[0;34m.\u001b[0m\u001b[0mthresh\u001b[0m \u001b[0;32mand\u001b[0m \u001b[0mpinn\u001b[0m\u001b[0;34m.\u001b[0m\u001b[0midx_batch\u001b[0m \u001b[0;32mnot\u001b[0m \u001b[0;32min\u001b[0m \u001b[0mpinns_adam_below_thresh\u001b[0m \u001b[0;32mand\u001b[0m  \u001b[0mpinn\u001b[0m\u001b[0;34m.\u001b[0m\u001b[0mflag\u001b[0m\u001b[0;34m==\u001b[0m\u001b[0;36m1\u001b[0m\u001b[0;34m:\u001b[0m\u001b[0;34m\u001b[0m\u001b[0;34m\u001b[0m\u001b[0m\n",
      "\u001b[0;32m~/anaconda3/lib/python3.9/multiprocessing/pool.py\u001b[0m in \u001b[0;36mstarmap\u001b[0;34m(self, func, iterable, chunksize)\u001b[0m\n\u001b[1;32m    370\u001b[0m         \u001b[0;31m`\u001b[0m\u001b[0mfunc\u001b[0m\u001b[0;31m`\u001b[0m \u001b[0;32mand\u001b[0m \u001b[0;34m(\u001b[0m\u001b[0ma\u001b[0m\u001b[0;34m,\u001b[0m \u001b[0mb\u001b[0m\u001b[0;34m)\u001b[0m \u001b[0mbecomes\u001b[0m \u001b[0mfunc\u001b[0m\u001b[0;34m(\u001b[0m\u001b[0ma\u001b[0m\u001b[0;34m,\u001b[0m \u001b[0mb\u001b[0m\u001b[0;34m)\u001b[0m\u001b[0;34m.\u001b[0m\u001b[0;34m\u001b[0m\u001b[0;34m\u001b[0m\u001b[0m\n\u001b[1;32m    371\u001b[0m         '''\n\u001b[0;32m--> 372\u001b[0;31m         \u001b[0;32mreturn\u001b[0m \u001b[0mself\u001b[0m\u001b[0;34m.\u001b[0m\u001b[0m_map_async\u001b[0m\u001b[0;34m(\u001b[0m\u001b[0mfunc\u001b[0m\u001b[0;34m,\u001b[0m \u001b[0miterable\u001b[0m\u001b[0;34m,\u001b[0m \u001b[0mstarmapstar\u001b[0m\u001b[0;34m,\u001b[0m \u001b[0mchunksize\u001b[0m\u001b[0;34m)\u001b[0m\u001b[0;34m.\u001b[0m\u001b[0mget\u001b[0m\u001b[0;34m(\u001b[0m\u001b[0;34m)\u001b[0m\u001b[0;34m\u001b[0m\u001b[0;34m\u001b[0m\u001b[0m\n\u001b[0m\u001b[1;32m    373\u001b[0m \u001b[0;34m\u001b[0m\u001b[0m\n\u001b[1;32m    374\u001b[0m     def starmap_async(self, func, iterable, chunksize=None, callback=None,\n",
      "\u001b[0;32m~/anaconda3/lib/python3.9/multiprocessing/pool.py\u001b[0m in \u001b[0;36mget\u001b[0;34m(self, timeout)\u001b[0m\n\u001b[1;32m    769\u001b[0m             \u001b[0;32mreturn\u001b[0m \u001b[0mself\u001b[0m\u001b[0;34m.\u001b[0m\u001b[0m_value\u001b[0m\u001b[0;34m\u001b[0m\u001b[0;34m\u001b[0m\u001b[0m\n\u001b[1;32m    770\u001b[0m         \u001b[0;32melse\u001b[0m\u001b[0;34m:\u001b[0m\u001b[0;34m\u001b[0m\u001b[0;34m\u001b[0m\u001b[0m\n\u001b[0;32m--> 771\u001b[0;31m             \u001b[0;32mraise\u001b[0m \u001b[0mself\u001b[0m\u001b[0;34m.\u001b[0m\u001b[0m_value\u001b[0m\u001b[0;34m\u001b[0m\u001b[0;34m\u001b[0m\u001b[0m\n\u001b[0m\u001b[1;32m    772\u001b[0m \u001b[0;34m\u001b[0m\u001b[0m\n\u001b[1;32m    773\u001b[0m     \u001b[0;32mdef\u001b[0m \u001b[0m_set\u001b[0m\u001b[0;34m(\u001b[0m\u001b[0mself\u001b[0m\u001b[0;34m,\u001b[0m \u001b[0mi\u001b[0m\u001b[0;34m,\u001b[0m \u001b[0mobj\u001b[0m\u001b[0;34m)\u001b[0m\u001b[0;34m:\u001b[0m\u001b[0;34m\u001b[0m\u001b[0;34m\u001b[0m\u001b[0m\n",
      "\u001b[0;32m~/anaconda3/lib/python3.9/multiprocessing/pool.py\u001b[0m in \u001b[0;36mworker\u001b[0;34m(inqueue, outqueue, initializer, initargs, maxtasks, wrap_exception)\u001b[0m\n\u001b[1;32m    123\u001b[0m         \u001b[0mjob\u001b[0m\u001b[0;34m,\u001b[0m \u001b[0mi\u001b[0m\u001b[0;34m,\u001b[0m \u001b[0mfunc\u001b[0m\u001b[0;34m,\u001b[0m \u001b[0margs\u001b[0m\u001b[0;34m,\u001b[0m \u001b[0mkwds\u001b[0m \u001b[0;34m=\u001b[0m \u001b[0mtask\u001b[0m\u001b[0;34m\u001b[0m\u001b[0;34m\u001b[0m\u001b[0m\n\u001b[1;32m    124\u001b[0m         \u001b[0;32mtry\u001b[0m\u001b[0;34m:\u001b[0m\u001b[0;34m\u001b[0m\u001b[0;34m\u001b[0m\u001b[0m\n\u001b[0;32m--> 125\u001b[0;31m             \u001b[0mresult\u001b[0m \u001b[0;34m=\u001b[0m \u001b[0;34m(\u001b[0m\u001b[0;32mTrue\u001b[0m\u001b[0;34m,\u001b[0m \u001b[0mfunc\u001b[0m\u001b[0;34m(\u001b[0m\u001b[0;34m*\u001b[0m\u001b[0margs\u001b[0m\u001b[0;34m,\u001b[0m \u001b[0;34m**\u001b[0m\u001b[0mkwds\u001b[0m\u001b[0;34m)\u001b[0m\u001b[0;34m)\u001b[0m\u001b[0;34m\u001b[0m\u001b[0;34m\u001b[0m\u001b[0m\n\u001b[0m\u001b[1;32m    126\u001b[0m         \u001b[0;32mexcept\u001b[0m \u001b[0mException\u001b[0m \u001b[0;32mas\u001b[0m \u001b[0me\u001b[0m\u001b[0;34m:\u001b[0m\u001b[0;34m\u001b[0m\u001b[0;34m\u001b[0m\u001b[0m\n\u001b[1;32m    127\u001b[0m             \u001b[0;32mif\u001b[0m \u001b[0mwrap_exception\u001b[0m \u001b[0;32mand\u001b[0m \u001b[0mfunc\u001b[0m \u001b[0;32mis\u001b[0m \u001b[0;32mnot\u001b[0m \u001b[0m_helper_reraises_exception\u001b[0m\u001b[0;34m:\u001b[0m\u001b[0;34m\u001b[0m\u001b[0;34m\u001b[0m\u001b[0m\n",
      "\u001b[0;32m~/anaconda3/lib/python3.9/multiprocessing/pool.py\u001b[0m in \u001b[0;36mstarmapstar\u001b[0;34m(args)\u001b[0m\n\u001b[1;32m     49\u001b[0m \u001b[0;34m\u001b[0m\u001b[0m\n\u001b[1;32m     50\u001b[0m \u001b[0;32mdef\u001b[0m \u001b[0mstarmapstar\u001b[0m\u001b[0;34m(\u001b[0m\u001b[0margs\u001b[0m\u001b[0;34m)\u001b[0m\u001b[0;34m:\u001b[0m\u001b[0;34m\u001b[0m\u001b[0;34m\u001b[0m\u001b[0m\n\u001b[0;32m---> 51\u001b[0;31m     \u001b[0;32mreturn\u001b[0m \u001b[0mlist\u001b[0m\u001b[0;34m(\u001b[0m\u001b[0mitertools\u001b[0m\u001b[0;34m.\u001b[0m\u001b[0mstarmap\u001b[0m\u001b[0;34m(\u001b[0m\u001b[0margs\u001b[0m\u001b[0;34m[\u001b[0m\u001b[0;36m0\u001b[0m\u001b[0;34m]\u001b[0m\u001b[0;34m,\u001b[0m \u001b[0margs\u001b[0m\u001b[0;34m[\u001b[0m\u001b[0;36m1\u001b[0m\u001b[0;34m]\u001b[0m\u001b[0;34m)\u001b[0m\u001b[0;34m)\u001b[0m\u001b[0;34m\u001b[0m\u001b[0;34m\u001b[0m\u001b[0m\n\u001b[0m\u001b[1;32m     52\u001b[0m \u001b[0;34m\u001b[0m\u001b[0m\n\u001b[1;32m     53\u001b[0m \u001b[0;31m#\u001b[0m\u001b[0;34m\u001b[0m\u001b[0;34m\u001b[0m\u001b[0m\n",
      "\u001b[0;32m~/Simulations/PINN/Triple_Junction/triple_junction_2D_V37_3/PINN.py\u001b[0m in \u001b[0;36mprocess_batch\u001b[0;34m(self, batch_X_f, batch_X_ini, batch_X_lb, batch_X_ub, batch_X_ltb, batch_X_rtb, batch_phi_ini, model)\u001b[0m\n\u001b[1;32m    857\u001b[0m         \u001b[0mt_min\u001b[0m \u001b[0;34m=\u001b[0m \u001b[0mfloat\u001b[0m\u001b[0;34m(\u001b[0m\u001b[0;34m'inf'\u001b[0m\u001b[0;34m)\u001b[0m\u001b[0;34m\u001b[0m\u001b[0;34m\u001b[0m\u001b[0m\n\u001b[1;32m    858\u001b[0m         \u001b[0mt_max\u001b[0m \u001b[0;34m=\u001b[0m \u001b[0mfloat\u001b[0m\u001b[0;34m(\u001b[0m\u001b[0;34m'-inf'\u001b[0m\u001b[0;34m)\u001b[0m\u001b[0;34m\u001b[0m\u001b[0;34m\u001b[0m\u001b[0m\n\u001b[0;32m--> 859\u001b[0;31m \u001b[0;34m\u001b[0m\u001b[0m\n\u001b[0m\u001b[1;32m    860\u001b[0m         \u001b[0;31m# Make copy from self for testing and saving actual results\u001b[0m\u001b[0;34m\u001b[0m\u001b[0;34m\u001b[0m\u001b[0m\n\u001b[1;32m    861\u001b[0m         PINN_ = Sequentialmodel(layers=self.layers, X_f_train=self.X_f, X_ini_train=self.X_ini,\\\n",
      "\u001b[0;32m~/Simulations/PINN/Triple_Junction/triple_junction_2D_V37_3/PINN.py\u001b[0m in \u001b[0;36mloss\u001b[0;34m(self, xf, x_ini, x_lb, x_ub, x_ltb, x_rtb, phi_ini, abs_x_min, abs_x_max, abs_y_min, abs_y_max)\u001b[0m\n\u001b[1;32m    680\u001b[0m \u001b[0;34m\u001b[0m\u001b[0m\n\u001b[1;32m    681\u001b[0m             \u001b[0mgrads_w_1d\u001b[0m \u001b[0;34m=\u001b[0m \u001b[0mtf\u001b[0m\u001b[0;34m.\u001b[0m\u001b[0mreshape\u001b[0m\u001b[0;34m(\u001b[0m\u001b[0mgrads\u001b[0m\u001b[0;34m[\u001b[0m\u001b[0;36m2\u001b[0m\u001b[0;34m*\u001b[0m\u001b[0mi\u001b[0m\u001b[0;34m]\u001b[0m\u001b[0;34m,\u001b[0m\u001b[0;34m[\u001b[0m\u001b[0;34m-\u001b[0m\u001b[0;36m1\u001b[0m\u001b[0;34m]\u001b[0m\u001b[0;34m)\u001b[0m \u001b[0;31m#flatten weights\u001b[0m\u001b[0;34m\u001b[0m\u001b[0;34m\u001b[0m\u001b[0m\n\u001b[0;32m--> 682\u001b[0;31m             \u001b[0mgrads_b_1d\u001b[0m \u001b[0;34m=\u001b[0m \u001b[0mtf\u001b[0m\u001b[0;34m.\u001b[0m\u001b[0mreshape\u001b[0m\u001b[0;34m(\u001b[0m\u001b[0mgrads\u001b[0m\u001b[0;34m[\u001b[0m\u001b[0;36m2\u001b[0m\u001b[0;34m*\u001b[0m\u001b[0mi\u001b[0m\u001b[0;34m+\u001b[0m\u001b[0;36m1\u001b[0m\u001b[0;34m]\u001b[0m\u001b[0;34m,\u001b[0m\u001b[0;34m[\u001b[0m\u001b[0;34m-\u001b[0m\u001b[0;36m1\u001b[0m\u001b[0;34m]\u001b[0m\u001b[0;34m)\u001b[0m \u001b[0;31m#flatten biases\u001b[0m\u001b[0;34m\u001b[0m\u001b[0;34m\u001b[0m\u001b[0m\n\u001b[0m\u001b[1;32m    683\u001b[0m \u001b[0;34m\u001b[0m\u001b[0m\n\u001b[1;32m    684\u001b[0m             \u001b[0mgrads_1d\u001b[0m \u001b[0;34m=\u001b[0m \u001b[0mtf\u001b[0m\u001b[0;34m.\u001b[0m\u001b[0mconcat\u001b[0m\u001b[0;34m(\u001b[0m\u001b[0;34m[\u001b[0m\u001b[0mgrads_1d\u001b[0m\u001b[0;34m,\u001b[0m \u001b[0mgrads_w_1d\u001b[0m\u001b[0;34m]\u001b[0m\u001b[0;34m,\u001b[0m \u001b[0;36m0\u001b[0m\u001b[0;34m)\u001b[0m \u001b[0;31m#concat grad_weights\u001b[0m\u001b[0;34m\u001b[0m\u001b[0;34m\u001b[0m\u001b[0m\n",
      "\u001b[0;32m~/Simulations/PINN/Triple_Junction/triple_junction_2D_V37_3/PINN.py\u001b[0m in \u001b[0;36mloss_IC\u001b[0;34m(self, x_ini, phi_ini)\u001b[0m\n\u001b[1;32m    484\u001b[0m \u001b[0;34m\u001b[0m\u001b[0m\n\u001b[1;32m    485\u001b[0m         \u001b[0;32mif\u001b[0m \u001b[0;34m(\u001b[0m\u001b[0mlen\u001b[0m\u001b[0;34m(\u001b[0m\u001b[0mX_lb\u001b[0m\u001b[0;34m)\u001b[0m\u001b[0;34m==\u001b[0m\u001b[0;36m0\u001b[0m\u001b[0;34m)\u001b[0m \u001b[0;32mor\u001b[0m \u001b[0;34m(\u001b[0m\u001b[0mlen\u001b[0m\u001b[0;34m(\u001b[0m\u001b[0mX_ub\u001b[0m\u001b[0;34m)\u001b[0m\u001b[0;34m==\u001b[0m\u001b[0;36m0\u001b[0m\u001b[0;34m)\u001b[0m \u001b[0;32mor\u001b[0m \u001b[0;34m(\u001b[0m\u001b[0mlen\u001b[0m\u001b[0;34m(\u001b[0m\u001b[0mX_ltb\u001b[0m\u001b[0;34m)\u001b[0m\u001b[0;34m==\u001b[0m\u001b[0;36m0\u001b[0m\u001b[0;34m)\u001b[0m \u001b[0;32mor\u001b[0m \u001b[0;34m(\u001b[0m\u001b[0mlen\u001b[0m\u001b[0;34m(\u001b[0m\u001b[0mX_rtb\u001b[0m\u001b[0;34m)\u001b[0m\u001b[0;34m==\u001b[0m\u001b[0;36m0\u001b[0m\u001b[0;34m)\u001b[0m \u001b[0;34m:\u001b[0m\u001b[0;34m\u001b[0m\u001b[0;34m\u001b[0m\u001b[0m\n\u001b[0;32m--> 486\u001b[0;31m             \u001b[0mtf\u001b[0m\u001b[0;34m.\u001b[0m\u001b[0mprint\u001b[0m\u001b[0;34m(\u001b[0m\u001b[0;34m\" !!! !!! !!! !!! :\\n !!! increase your BC points !!!:\\n !!! !!! !!! !!! :\\n\"\u001b[0m\u001b[0;34m)\u001b[0m\u001b[0;34m\u001b[0m\u001b[0;34m\u001b[0m\u001b[0m\n\u001b[0m\u001b[1;32m    487\u001b[0m \u001b[0;34m\u001b[0m\u001b[0m\n\u001b[1;32m    488\u001b[0m         \u001b[0mflag_lb\u001b[0m\u001b[0;34m=\u001b[0m\u001b[0;36m0\u001b[0m\u001b[0;34m\u001b[0m\u001b[0;34m\u001b[0m\u001b[0m\n",
      "\u001b[0;32m~/anaconda3/lib/python3.9/site-packages/tensorflow/python/util/traceback_utils.py\u001b[0m in \u001b[0;36merror_handler\u001b[0;34m(*args, **kwargs)\u001b[0m\n\u001b[1;32m    151\u001b[0m     \u001b[0;32mexcept\u001b[0m \u001b[0mException\u001b[0m \u001b[0;32mas\u001b[0m \u001b[0me\u001b[0m\u001b[0;34m:\u001b[0m\u001b[0;34m\u001b[0m\u001b[0;34m\u001b[0m\u001b[0m\n\u001b[1;32m    152\u001b[0m       \u001b[0mfiltered_tb\u001b[0m \u001b[0;34m=\u001b[0m \u001b[0m_process_traceback_frames\u001b[0m\u001b[0;34m(\u001b[0m\u001b[0me\u001b[0m\u001b[0;34m.\u001b[0m\u001b[0m__traceback__\u001b[0m\u001b[0;34m)\u001b[0m\u001b[0;34m\u001b[0m\u001b[0;34m\u001b[0m\u001b[0m\n\u001b[0;32m--> 153\u001b[0;31m       \u001b[0;32mraise\u001b[0m \u001b[0me\u001b[0m\u001b[0;34m.\u001b[0m\u001b[0mwith_traceback\u001b[0m\u001b[0;34m(\u001b[0m\u001b[0mfiltered_tb\u001b[0m\u001b[0;34m)\u001b[0m \u001b[0;32mfrom\u001b[0m \u001b[0;32mNone\u001b[0m\u001b[0;34m\u001b[0m\u001b[0;34m\u001b[0m\u001b[0m\n\u001b[0m\u001b[1;32m    154\u001b[0m     \u001b[0;32mfinally\u001b[0m\u001b[0;34m:\u001b[0m\u001b[0;34m\u001b[0m\u001b[0;34m\u001b[0m\u001b[0m\n\u001b[1;32m    155\u001b[0m       \u001b[0;32mdel\u001b[0m \u001b[0mfiltered_tb\u001b[0m\u001b[0;34m\u001b[0m\u001b[0;34m\u001b[0m\u001b[0m\n",
      "\u001b[0;32m~/anaconda3/lib/python3.9/site-packages/tensorflow/python/framework/ops.py\u001b[0m in \u001b[0;36mraise_from_not_ok_status\u001b[0;34m(e, name)\u001b[0m\n\u001b[1;32m   6654\u001b[0m \u001b[0;32mdef\u001b[0m \u001b[0mraise_from_not_ok_status\u001b[0m\u001b[0;34m(\u001b[0m\u001b[0me\u001b[0m\u001b[0;34m,\u001b[0m \u001b[0mname\u001b[0m\u001b[0;34m)\u001b[0m\u001b[0;34m:\u001b[0m\u001b[0;34m\u001b[0m\u001b[0;34m\u001b[0m\u001b[0m\n\u001b[1;32m   6655\u001b[0m   \u001b[0me\u001b[0m\u001b[0;34m.\u001b[0m\u001b[0mmessage\u001b[0m \u001b[0;34m+=\u001b[0m \u001b[0;34m(\u001b[0m\u001b[0;34m\" name: \"\u001b[0m \u001b[0;34m+\u001b[0m \u001b[0mstr\u001b[0m\u001b[0;34m(\u001b[0m\u001b[0mname\u001b[0m \u001b[0;32mif\u001b[0m \u001b[0mname\u001b[0m \u001b[0;32mis\u001b[0m \u001b[0;32mnot\u001b[0m \u001b[0;32mNone\u001b[0m \u001b[0;32melse\u001b[0m \u001b[0;34m\"\"\u001b[0m\u001b[0;34m)\u001b[0m\u001b[0;34m)\u001b[0m\u001b[0;34m\u001b[0m\u001b[0;34m\u001b[0m\u001b[0m\n\u001b[0;32m-> 6656\u001b[0;31m   \u001b[0;32mraise\u001b[0m \u001b[0mcore\u001b[0m\u001b[0;34m.\u001b[0m\u001b[0m_status_to_exception\u001b[0m\u001b[0;34m(\u001b[0m\u001b[0me\u001b[0m\u001b[0;34m)\u001b[0m \u001b[0;32mfrom\u001b[0m \u001b[0;32mNone\u001b[0m  \u001b[0;31m# pylint: disable=protected-access\u001b[0m\u001b[0;34m\u001b[0m\u001b[0;34m\u001b[0m\u001b[0m\n\u001b[0m\u001b[1;32m   6657\u001b[0m \u001b[0;34m\u001b[0m\u001b[0m\n\u001b[1;32m   6658\u001b[0m \u001b[0;34m\u001b[0m\u001b[0m\n",
      "\u001b[0;31mInvalidArgumentError\u001b[0m: {{function_node __wrapped__StridedSlice_device_/job:localhost/replica:0/task:0/device:CPU:0}} slice index 1 of dimension 1 out of bounds. [Op:StridedSlice] name: strided_slice/"
     ]
    }
   ],
   "source": [
    "    \n",
    "    # train the Master model\n",
    "    global Nfeval\n",
    "    Nfeval = 1 #(c.f. PINN.py -- scipy optimizer)\n",
    "    start_time = time.time() \n",
    "    ########################################################################  \n",
    "      \n",
    "      \n",
    "      \n",
    "    list_loss= PINN_.train(epochs=1,batch_size_max=1000,thresh= 1e-2,epoch_scipy_opt=21,epoch_print=1,\\\n",
    "                            epoch_resample=1,initial_check=True,save_reg_int=500000,\\\n",
    "                            num_train_intervals=num_train_intervals,\\\n",
    "                            discrete_resolv=True,fraction_ones_per_int_pts=fraction_ones_per_int_pts,\\\n",
    "                                coef_increase_points_f=coef_increase_points_f,\\\n",
    "                                coef_increase_points_ic=coef_increase_points_ic,\\\n",
    "                            path=pathOutput,pinns =pinns,path_weights_all_pinns=path_weights_all_pinns,\\\n",
    "                                save_weights_pinns=True,communicate_pinns=False,\\\n",
    "                                    change_pinn_candidate=False,Thresh_Master=1e-2,optimize_master=False )  \n",
    "\n",
    "    elapsed = time.time() - start_time  \n",
    "    tf.print(\"Training time : \" + (str(datetime.timedelta(seconds=elapsed))) )"
   ]
  },
  {
   "attachments": {},
   "cell_type": "markdown",
   "metadata": {},
   "source": [
    "## Post-process"
   ]
  },
  {
   "cell_type": "code",
   "execution_count": 5,
   "metadata": {},
   "outputs": [
    {
     "name": "stdout",
     "output_type": "stream",
     "text": [
      "\n",
      " !!!  saving weights of pinns in progress !!! \n",
      "\n",
      "\n",
      "      ! saving complete ! \n",
      "\n"
     ]
    }
   ],
   "source": [
    "PINN_.save_weights_for_pinns(N_batches, path_weights_all_pinns, PINN_.t_min, PINN_.t_max)"
   ]
  },
  {
   "cell_type": "code",
   "execution_count": 6,
   "metadata": {},
   "outputs": [],
   "source": [
    "def process_repository_files_discret_workers(PINN,N_batches,pathOutput,path_weights_all_pinns):\n",
    "\n",
    "\n",
    "\n",
    "    # Make copy from self for testing and saving actual results        \n",
    "    PINN_ = Sequentialmodel(layers=PINN.layers, X_f_train=PINN.X_f, X_ini_train=PINN.X_ini,\\\n",
    "                            phases_ini_indexes=PINN.phases_ini_indexes,all_ini_flags_matrix=PINN.All_flag_ini,\\\n",
    "                            Phi_ini=PINN.All_phi_ini,phi_ini_train=PINN.phi_ini, N_ini=PINN.N_ini,X_phi_test=PINN.X_phi_test,\\\n",
    "                            X_ini_train_all=PINN.X_ini_train_all, phi_ini_train_all=PINN.phi_ini_train_all,\\\n",
    "                                all_interfaces=PINN.All_interfaces_ini,\\\n",
    "                            X_lb_train=PINN.X_lb, X_ub_train=PINN.X_rtb,\\\n",
    "                            X_ltb_train=PINN.X_ltb, X_rtb_train=PINN.X_rtb,\\\n",
    "                            X=None,Y=None,T=None,x=PINN.x,y=PINN.y,lb=PINN.lb, ub=PINN.ub, mu=PINN.mu, sigma=PINN.sigma, delta_g=PINN.delta_g,\\\n",
    "                                eta=PINN.eta,Nx=PINN.Nx,Ny=PINN.Ny,Nt=PINN.Nt,phi_sol=None,pinns =PINN.pinns,num_phases=PINN.num_phases)       \n",
    "    \n",
    "    for phase_idx in range(PINN.num_phases):\n",
    "        n=len(X_ini_train_all)\n",
    "        N=PINN.num_phases\n",
    "        X_phi_test= PINN_.X_ini_train_all[int(n*phase_idx/N)+1:int(n*(phase_idx+1)/N)]\n",
    "        phi_test= PINN_.phi_ini_train_all[int(n*phase_idx/N)+1:int(n*(phase_idx+1)/N)]\n",
    "        #plt.scatter(X_phi_test[:, 0], X_phi_test[:, 1], cmap=plt.get_cmap('viridis'), c=np.sum(phi_test, axis=1, keepdims=True),alpha=0.8)\n",
    "        #plt.colorbar( shrink=0.35)\n",
    "        #plt.show()\n",
    "        \n",
    "        phi_evolution_t_min = []\n",
    "        phi_evolution_t_max = []\n",
    "        X_phi_test_subsets = []\n",
    "        # Predict \n",
    "        for i in range(N_batches):\n",
    "            pinn=PINN.pinns[i]\n",
    "            \n",
    "            t_min, t_max = PINN.t_min, PINN.t_max # self.PRE_POST.extract_t_min_t_max(weights_file)\n",
    "            x_min, x_max, y_min, y_max=pinn.limits\n",
    "            \"\"\"\n",
    "            X_phi_test_sub = PINN_.X_phi_test[:, 2] >= t_min\n",
    "            X_phi_test_sub &= PINN_.X_phi_test[:, 2] <= t_max\n",
    "            #tf.print(\"here in save : \",x_min, x_max, y_min, y_max)\n",
    "            X_phi_test_sub &= PINN_.X_phi_test[:, 0] >= x_min\n",
    "            X_phi_test_sub &= PINN_.X_phi_test[:, 0] <= x_max\n",
    "            X_phi_test_sub &= PINN_.X_phi_test[:, 1] >= y_min\n",
    "            X_phi_test_sub &= PINN_.X_phi_test[:, 1] <= y_max   \n",
    "            X_phi_test_sub = PINN_.X_phi_test[X_phi_test_sub] \n",
    "\n",
    "            X_phi_test_sub[:, 2] = t_min\n",
    "            \"\"\"           \n",
    "            indices = np.where(\n",
    "                (X_phi_test[:, 0] >= x_min) &\n",
    "                (X_phi_test[:, 0] <= x_max) &\n",
    "                (X_phi_test[:, 1] >= y_min) &\n",
    "                (X_phi_test[:, 1] <= y_max)\n",
    "            )\n",
    "            \n",
    "            X_phi_test_sub = X_phi_test[indices] \n",
    "            phi_test_sub = phi_test[indices][:, phase_idx]  \n",
    "                        \n",
    "            phi_pred_t_min  = pinn.evaluate(X_phi_test_sub)[:, phase_idx]\n",
    "            \n",
    "            #phi_evolution_t_min.append(phi_pred_t_min )\n",
    "\n",
    "            #X_phi_test_sub[:, 2] = t_max\n",
    "            #X_phi_test_subsets.append(X_phi_test_sub)\n",
    "            #phi_pred_t_max = pinn.evaluate(X_phi_test_sub).numpy()\n",
    "            #phi_pred_t_max  = phi_pred_t_max[:, phase_idx]\n",
    "        \n",
    "            #phi_evolution_t_max.append(phi_pred_t_max )\n",
    "            \n",
    "            phi=phi_pred_t_min\n",
    "            plt.scatter(X_phi_test_sub[:, 0], X_phi_test_sub[:, 1], cmap=plt.get_cmap('viridis'), c=phi,vmin=0,vmax=1)\n",
    "            x_avg = (x_min + x_max) / 2\n",
    "            y_avg = (y_min + y_max) / 2\n",
    "\n",
    "            plt.text(x_avg, y_avg, f\"{i}\", color='black', ha='right', va='bottom')\n",
    "            \n",
    "            #plt.show()\n",
    "            #plt.xlim([x_min, x_max])\n",
    "            #plt.ylim([y_min, y_max])\n",
    "        plt.colorbar()\n",
    "        #plt.tight_layout()\n",
    "        fig_name = f\"Workers_Pred_Phase_{phase_idx}_at_time_interval_tmin_{t_min:.5f}_tmax_{t_max:.5f}.png\"\n",
    "        plt.savefig(os.path.join(pathOutput ,fig_name)) \n",
    "        plt.close()"
   ]
  },
  {
   "cell_type": "code",
   "execution_count": 7,
   "metadata": {},
   "outputs": [],
   "source": [
    "process_repository_files_discret_workers(PINN_,N_batches,\"test_rep\",path_weights_all_pinns)  "
   ]
  },
  {
   "cell_type": "code",
   "execution_count": 18,
   "metadata": {},
   "outputs": [],
   "source": [
    "def set_average_weights_and_save(PINN_, weights_key=0):\n",
    "    t_min=PINN_.t_min\n",
    "    t_max=PINN_.t_max\n",
    "    \n",
    "    weights_list = []\n",
    "    for pinn in PINN_.pinns:\n",
    "        weights_list.append(pinn.get_weights())\n",
    "    # compute the average of the weights and biases\n",
    "    average_weights = weights_list[-1]#sum(weights_list) / len(weights_list)\n",
    "    #tf.print(\"Heeere:\",np.asarray(average_weights).shape, len(weights_list) )\n",
    "    PINN_.set_weights(average_weights)\n",
    "    weights_file = 'weights/weights_tmin_{:.5f}_tmax_{:.5f}_{}.json'.format(t_min, t_max, weights_key)\n",
    "    PINN_.save_weights(PINN_,weights_file)   "
   ]
  },
  {
   "cell_type": "code",
   "execution_count": 19,
   "metadata": {},
   "outputs": [],
   "source": [
    "set_average_weights_and_save(PINN_, weights_key=0)"
   ]
  },
  {
   "cell_type": "code",
   "execution_count": 23,
   "metadata": {},
   "outputs": [],
   "source": [
    "def process_repository_files_discret_Master(PINN_,path,pathOutput):\n",
    "        weights_files = PINN_.PRE_POST.read_weights_files(path)\n",
    "        print(weights_files)\n",
    "\n",
    "        X_ini_train_all=PINN_.X_ini_train_all\n",
    "    \n",
    "        phase_idx = 0#random.randint(0, PINN_.num_phases - 1)\n",
    "\n",
    "\n",
    "        n=len(X_ini_train_all)\n",
    "        N=PINN_.num_phases\n",
    "        X_phi_test= PINN_.X_ini_train_all[int(n*phase_idx/N)+1:int(n*(phase_idx+1)/N)]\n",
    "        phi_test= PINN_.phi_ini_train_all[int(n*phase_idx/N)+1:int(n*(phase_idx+1)/N)]\n",
    "        \n",
    "        phi_evolution = []\n",
    "        for weights_file in weights_files:\n",
    "            t_min, t_max = PINN_.PRE_POST.extract_t_min_t_max(weights_file)\n",
    "            #tf.print(\"t_min, t_max: \",t_min, t_max)\n",
    "            weights_loaded = PINN_.PRE_POST.load_weights(weights_file)\n",
    "            PINN_.set_weights(weights_loaded)\n",
    "            \"\"\"\n",
    "            X_phi_test_sub = PINN_.X_phi_test[:, 2] >= t_min\n",
    "            X_phi_test_sub &= PINN_.X_phi_test[:, 2] <= t_max\n",
    "            X_phi_test_sub = PINN_.X_phi_test[X_phi_test_sub, :]           \n",
    "            X_phi_test_sub[:, 2] = t_min\n",
    "            \n",
    "            phi_pred = PINN_.evaluate(X_phi_test_sub).numpy()[:, phase_idx]\n",
    "            phi_evolution.append(phi_pred)\n",
    "            \"\"\"\n",
    "        # last one \n",
    "        X_phi_test[:, 2] = t_max\n",
    "        phi_pred = PINN_.evaluate(X_phi_test).numpy()[:, phase_idx]\n",
    "        phi_evolution.append(phi_pred)  \n",
    "        num_boxes = 4     \n",
    "        filename = \"save_preditions\" + \"_phase_{}\".format(str(phase_idx))+\".jpg\"\n",
    "        #tf.print(\"filename\",filename)\n",
    "        PINN_.PRE_POST.plot_global_evolution_discret(num_boxes,X_phi_test,phi_evolution, pathOutput,\"title\", filename,t_max,PINN_.Nt)"
   ]
  },
  {
   "cell_type": "code",
   "execution_count": 24,
   "metadata": {},
   "outputs": [
    {
     "name": "stdout",
     "output_type": "stream",
     "text": [
      "['/home/selfetni/Simulations/PINN/Triple_Junction/triple_junction_2D_V3/weights/weights_tmin_0.00000_tmax_0.01000_0.json']\n"
     ]
    }
   ],
   "source": [
    "process_repository_files_discret_Master(PINN_,path_weights,\"test_rep\")"
   ]
  },
  {
   "cell_type": "code",
   "execution_count": 20,
   "metadata": {},
   "outputs": [
    {
     "name": "stdout",
     "output_type": "stream",
     "text": [
      "Square Matrix:\n",
      "[[0.1 0.2 0.8 1. ]\n",
      " [0.5 1.  0.3 0.7]\n",
      " [0.6 1.  0.4 0.2]\n",
      " [0.3 0.2 0.1 0.5]]\n",
      "[0.1 0.2 0.8 1.  0.5 1.  0.3 0.7 0.6 1.  0.4 0.2 0.3 0.2 0.1 0.5]\n",
      "\n",
      "Phi_0 (Multiplied by 4):\n",
      "[[0.4 0.8 3.2 4. ]\n",
      " [2.  4.  1.2 2.8]\n",
      " [2.4 4.  1.6 0.8]\n",
      " [1.2 0.8 0.4 2. ]]\n",
      "\n",
      "Interface Indices:\n",
      "(array([3, 5, 9]),)\n"
     ]
    }
   ],
   "source": [
    "# Generate a square matrix of size 4x4\n",
    "square_matrix = np.array([\n",
    "    [0.1, 0.2, 0.8, 1.0],\n",
    "    [0.5, 1.0, 0.3, 0.7],\n",
    "    [0.6, 1.0, 0.4, 0.2],\n",
    "    [0.3, 0.2, 0.1, 0.5]\n",
    "])\n",
    "\n",
    "\n",
    "\n",
    "# Find the indices where 0.9 < Phi_0 <= 1\n",
    "interface_indices = np.where(np.logical_and(square_matrix.flatten() > 0.9, square_matrix.flatten() <= 1))\n",
    "\n",
    "print(\"Square Matrix:\")\n",
    "print(square_matrix)\n",
    "print(square_matrix.flatten())\n",
    "\n",
    "\n",
    "print(\"\\nPhi_0 (Multiplied by 4):\")\n",
    "print(Phi_0)\n",
    "print(\"\\nInterface Indices:\")\n",
    "print(interface_indices)\n"
   ]
  },
  {
   "cell_type": "code",
   "execution_count": 18,
   "metadata": {},
   "outputs": [
    {
     "data": {
      "text/plain": [
       "1.0"
      ]
     },
     "execution_count": 18,
     "metadata": {},
     "output_type": "execute_result"
    }
   ],
   "source": [
    "square_matrix.flatten()[3]"
   ]
  },
  {
   "cell_type": "code",
   "execution_count": 107,
   "metadata": {},
   "outputs": [
    {
     "name": "stderr",
     "output_type": "stream",
     "text": [
      "2023-08-02 17:17:57.221634: I tensorflow/core/platform/cpu_feature_guard.cc:193] This TensorFlow binary is optimized with oneAPI Deep Neural Network Library (oneDNN) to use the following CPU instructions in performance-critical operations:  AVX2 FMA\n",
      "To enable them in other operations, rebuild TensorFlow with the appropriate compiler flags.\n",
      "2023-08-02 17:17:57.452722: W tensorflow/compiler/xla/stream_executor/platform/default/dso_loader.cc:64] Could not load dynamic library 'libcudart.so.11.0'; dlerror: libcudart.so.11.0: cannot open shared object file: No such file or directory\n",
      "2023-08-02 17:17:57.452737: I tensorflow/compiler/xla/stream_executor/cuda/cudart_stub.cc:29] Ignore above cudart dlerror if you do not have a GPU set up on your machine.\n",
      "2023-08-02 17:18:00.242015: W tensorflow/compiler/xla/stream_executor/platform/default/dso_loader.cc:64] Could not load dynamic library 'libnvinfer.so.7'; dlerror: libnvinfer.so.7: cannot open shared object file: No such file or directory\n",
      "2023-08-02 17:18:00.242066: W tensorflow/compiler/xla/stream_executor/platform/default/dso_loader.cc:64] Could not load dynamic library 'libnvinfer_plugin.so.7'; dlerror: libnvinfer_plugin.so.7: cannot open shared object file: No such file or directory\n",
      "2023-08-02 17:18:00.242071: W tensorflow/compiler/tf2tensorrt/utils/py_utils.cc:38] TF-TRT Warning: Cannot dlopen some TensorRT libraries. If you would like to use Nvidia GPU with TensorRT, please make sure the missing libraries mentioned above are installed properly.\n"
     ]
    },
    {
     "name": "stdout",
     "output_type": "stream",
     "text": [
      "WARNING:tensorflow:From /tmp/ipykernel_3593063/219084231.py:4: is_gpu_available (from tensorflow.python.framework.test_util) is deprecated and will be removed in a future version.\n",
      "Instructions for updating:\n",
      "Use `tf.config.list_physical_devices('GPU')` instead.\n",
      "GPU is not available or not visible to TensorFlow.\n"
     ]
    },
    {
     "name": "stderr",
     "output_type": "stream",
     "text": [
      "2023-08-02 17:18:04.587923: I tensorflow/core/platform/cpu_feature_guard.cc:193] This TensorFlow binary is optimized with oneAPI Deep Neural Network Library (oneDNN) to use the following CPU instructions in performance-critical operations:  AVX2 FMA\n",
      "To enable them in other operations, rebuild TensorFlow with the appropriate compiler flags.\n",
      "2023-08-02 17:18:04.594930: E tensorflow/compiler/xla/stream_executor/cuda/cuda_driver.cc:267] failed call to cuInit: CUDA_ERROR_COMPAT_NOT_SUPPORTED_ON_DEVICE: forward compatibility was attempted on non supported HW\n",
      "2023-08-02 17:18:04.594949: I tensorflow/compiler/xla/stream_executor/cuda/cuda_diagnostics.cc:169] retrieving CUDA diagnostic information for host: WS8692.zit.bam.de\n",
      "2023-08-02 17:18:04.594953: I tensorflow/compiler/xla/stream_executor/cuda/cuda_diagnostics.cc:176] hostname: WS8692.zit.bam.de\n",
      "2023-08-02 17:18:04.595059: I tensorflow/compiler/xla/stream_executor/cuda/cuda_diagnostics.cc:200] libcuda reported version is: 525.125.6\n",
      "2023-08-02 17:18:04.595073: I tensorflow/compiler/xla/stream_executor/cuda/cuda_diagnostics.cc:204] kernel reported version is: 515.105.1\n",
      "2023-08-02 17:18:04.595076: E tensorflow/compiler/xla/stream_executor/cuda/cuda_diagnostics.cc:313] kernel version 515.105.1 does not match DSO version 525.125.6 -- cannot find working devices in this configuration\n"
     ]
    }
   ],
   "source": [
    "import tensorflow as tf\n",
    "\n",
    "# Check if GPU is available and visible to TensorFlow\n",
    "if tf.test.is_gpu_available():\n",
    "    print(\"GPU is available and visible to TensorFlow.\")\n",
    "else:\n",
    "    print(\"GPU is not available or not visible to TensorFlow.\")"
   ]
  },
  {
   "cell_type": "code",
   "execution_count": 108,
   "metadata": {},
   "outputs": [
    {
     "name": "stdout",
     "output_type": "stream",
     "text": [
      "2.11.0\n",
      "[]\n"
     ]
    }
   ],
   "source": [
    "\n",
    "# Check if TensorFlow-GPU is installed\n",
    "print(tf.__version__)\n",
    "print(tf.config.list_physical_devices('GPU'))\n"
   ]
  },
  {
   "cell_type": "code",
   "execution_count": 145,
   "metadata": {},
   "outputs": [],
   "source": [
    "def is_intersection(square1, square2):\n",
    "    x_min1, x_max1,y_min1, y_max1 = square1\n",
    "    x_min2, x_max2, y_min2, y_max2 = square2\n",
    "    x_avg_1 = (x_min1 + x_max1) / 2\n",
    "    y_avg_1 = (y_min1 + y_max1) / 2\n",
    "    x_avg_2 = (x_min2 + x_max2) / 2\n",
    "    y_avg_2 = (y_min2 + y_max2) / 2\n",
    "    dist_centers=np.sqrt((x_avg_1-x_avg_2)**2 +(y_avg_1-y_avg_2)**2)\n",
    "    a_1=np.abs((x_min1- x_max1))\n",
    "    b_1=np.abs((y_min1- y_max1))\n",
    "    a_2=np.abs((x_min2- x_max2))\n",
    "    b_2=np.abs((y_min2-y_max2))\n",
    "    r1=a_1/2\n",
    "    r2=a_2/2\n",
    "\n",
    "    return  (dist_centers < (r1+r2) )\n"
   ]
  },
  {
   "cell_type": "code",
   "execution_count": 164,
   "metadata": {},
   "outputs": [
    {
     "name": "stdout",
     "output_type": "stream",
     "text": [
      "True\n"
     ]
    },
    {
     "data": {
      "image/png": "[encoded data removed]",
      "text/plain": [
       "<Figure size 640x480 with 1 Axes>"
      ]
     },
     "metadata": {},
     "output_type": "display_data"
    }
   ],
   "source": [
    "square1 = [0,10,10,20]\n",
    "square2 = [5,10,10,15]\n",
    "print(is_intersection(square1, square2))\n",
    "# Extracting coordinates for each square\n",
    "x_min1, y_min1, x_max1, y_max1 = square1[0], square1[2], square1[1] , square1[3]\n",
    "x_min2, y_min2, x_max2, y_max2 = square2[0], square2[2], square2[1] , square2[3]\n",
    "x_avg_1 = (x_min1 + x_max1) / 2\n",
    "y_avg_1 = (y_min1 + y_max1) / 2\n",
    "x_avg_2 = (x_min2 + x_max2) / 2\n",
    "y_avg_2 = (y_min2 + y_max2) / 2\n",
    "a_1=np.abs((x_min1- x_max1))\n",
    "b_1=np.abs((y_min1- y_max1))\n",
    "a_2=np.abs((x_min2- x_max2))\n",
    "b_2=np.abs((y_min2-y_max2))\n",
    "r1=a_1/2\n",
    "r2=a_2/2\n",
    "# Creating subplots\n",
    "fig, ax = plt.subplots()\n",
    "plt.grid()\n",
    "# Plotting the first square\n",
    "rect1 = plt.Rectangle((x_min1, y_min1), x_max1 - x_min1, y_max1 - y_min1, linewidth=1, edgecolor='r', facecolor='none')\n",
    "ax.add_patch(rect1)\n",
    "circle_1=plt.Circle((x_avg_1, y_avg_1), r1, color='r', fill=False)\n",
    "ax.add_artist(circle_1)\n",
    "# Plotting the second square\n",
    "rect2 = plt.Rectangle((x_min2, y_min2), x_max2 - x_min2, y_max2 - y_min2, linewidth=1, edgecolor='b', facecolor='none')\n",
    "ax.add_patch(rect2)\n",
    "circle_2=plt.Circle((x_avg_2, y_avg_2), r2, color='b', fill=False)\n",
    "ax.add_artist(circle_2)\n",
    "# Set axis limits\n",
    "plt.xlim(0, max(x_max1, x_max2) + 2)\n",
    "plt.ylim(0, max(y_max1, y_max2) + 2)\n",
    "\n",
    "# Add labels and title\n",
    "plt.xlabel('X-axis')\n",
    "plt.ylabel('Y-axis')\n",
    "plt.title('Plot of Squares')\n",
    "\n",
    "# Show the plot\n",
    "\n",
    "plt.show()\n"
   ]
  },
  {
   "cell_type": "code",
   "execution_count": 3,
   "metadata": {},
   "outputs": [
    {
     "name": "stderr",
     "output_type": "stream",
     "text": [
      "/tmp/ipykernel_2829493/329937679.py:38: UserWarning: Matplotlib is currently using agg, which is a non-GUI backend, so cannot show the figure.\n",
      "  plt.show()\n"
     ]
    }
   ],
   "source": [
    "def draw_colored_box_boundaries(ax, rows, cols, color, linestyle='-'):\n",
    "    box_width = 1.0 / cols\n",
    "    box_height = 1.0 / rows\n",
    "\n",
    "    for row in range(rows):\n",
    "        for col in range(cols):\n",
    "            x = col * box_width\n",
    "            y = row * box_height\n",
    "            if x==0 and y==0:\n",
    "                fill=False\n",
    "                ax.add_patch(plt.Rectangle((x, y), box_width, box_height, fill=fill, color=color, linestyle=linestyle))\n",
    "            else:\n",
    "                fill=False\n",
    "                ax.add_patch(plt.Rectangle((x, y), box_width, box_height, fill=fill, color=color, linestyle=linestyle))\n",
    "            box_num = row * cols + col\n",
    "            ax.text(x + box_width / 2, y + box_height / 2, str(box_num), va='center', ha='center', color=color)\n",
    "            #plt.text(0.5, 0.5, r\"$\\bf{IC\\ points\\ well\\ filled}$\", color=\"orange\", fontsize=16, ha=\"center\", va=\"center\")\n",
    "fig, ax = plt.subplots(figsize=(6, 6))\n",
    "\n",
    "\n",
    "colors = ['red', 'green', 'purple', 'orange', 'cyan']\n",
    "line_styles = ['-', '--', ':', '-.', '-']\n",
    "#draw_colored_box_boundaries(ax, rows=10, cols=10, color='red', linestyle='-')\n",
    "#draw_colored_box_boundaries(ax, rows=8, cols=8, color='orange', linestyle='--')\n",
    "draw_colored_box_boundaries(ax, rows=6, cols=6, color='green', linestyle='-')\n",
    "draw_colored_box_boundaries(ax, rows=4, cols=4, color='blue', linestyle='-.')\n",
    "#draw_colored_box_boundaries(ax, rows=1, cols=1, color='blue', linestyle='-.')\n",
    "\n",
    "\n",
    "plt.xlim(0, 1)\n",
    "plt.ylim(0, 1)\n",
    "plt.xlabel(\"x\")\n",
    "plt.ylabel(\"y\")\n",
    "#plt.gca().invert_xaxis()\n",
    "#plt.gca().invert_yaxis()\n",
    "#plt.gca().set_aspect('equal', adjustable='box')  \n",
    "\n",
    "plt.show()\n"
   ]
  },
  {
   "cell_type": "code",
   "execution_count": 5,
   "metadata": {},
   "outputs": [],
   "source": [
    "from mpl_toolkits.mplot3d.art3d import Line3DCollection"
   ]
  },
  {
   "cell_type": "code",
   "execution_count": 9,
   "metadata": {},
   "outputs": [],
   "source": [
    "def draw_colored_box_boundaries(ax, x_range, y_range, z_level, color, linestyle='-', rows=10, cols=10):\n",
    "    box_width = (x_range[1] - x_range[0]) / cols\n",
    "    box_height = (y_range[1] - y_range[0]) / rows\n",
    "\n",
    "    lines = []\n",
    "\n",
    "    for row in range(rows + 1):\n",
    "        y = y_range[0] + row * box_height\n",
    "        lines.append([(x_range[0], y, z_level), (x_range[1], y, z_level)])\n",
    "\n",
    "    for col in range(cols + 1):\n",
    "        x = x_range[0] + col * box_width\n",
    "        lines.append([(x, y_range[0], z_level), (x, y_range[1], z_level)])\n",
    "\n",
    "    line_collection = Line3DCollection(lines, color=color, linestyle=linestyle)\n",
    "    ax.add_collection3d(line_collection)\n",
    "\n",
    "    for row in range(rows):\n",
    "        for col in range(cols):\n",
    "            x = x_range[0] + col * box_width\n",
    "            y = y_range[0] + row * box_height\n",
    "            box_num = row * cols + col\n",
    "            ax.text(x + box_width / 2, y + box_height / 2, z_level, str(box_num), va='center', ha='center', color=color)\n",
    "\n",
    "fig = plt.figure(figsize=(10, 10))\n",
    "ax = fig.add_subplot(111, projection='3d')\n",
    "\n",
    "colors = ['red', 'green', 'blue', 'orange']\n",
    "line_styles = ['-', '--', ':', '-.']\n",
    "\n",
    "n_col_start = n_row_start = 16\n",
    "n_col_end = n_row_end = 2\n",
    "\n",
    "num_subdivisions = 8\n",
    "z_levels = list(range(num_subdivisions))\n",
    "x_ranges = [(i / n_col_start, 1 - i / n_col_start) for i in z_levels]\n",
    "y_ranges = [(i / n_col_start, 1 - i / n_col_start) for i in z_levels]\n",
    "x_ranges\n",
    "\n",
    "for i, (z_level, x_range, y_range) in enumerate(zip(z_levels, x_ranges, y_ranges)):\n",
    "    linestyle = line_styles[i % len(line_styles)]\n",
    "    color = np.random.rand(3) \n",
    "    draw_colored_box_boundaries(ax, x_range=x_range, y_range=y_range, z_level=z_level, color=color, linestyle=linestyle, rows=n_col_start, cols=n_row_start)\n",
    "    n_col_start -= 2\n",
    "    n_row_start -= 2\n",
    "\n",
    "ax.set_zlim(0, max(z_levels) + 1)\n",
    "ax.grid(False)  \n",
    "\n",
    "ax.xaxis.pane.fill = False\n",
    "ax.yaxis.pane.fill = False\n",
    "ax.zaxis.pane.fill = False\n",
    "ax.set_xlabel(\"X\")\n",
    "ax.set_ylabel(\"Y\")\n",
    "ax.set_zlabel(\"Level\")\n",
    "ax.set_title(\"3D Grid of Colored Box Boundaries with Subdivisions and Numbering\")\n",
    "\n",
    "plt.show()"
   ]
  },
  {
   "cell_type": "code",
   "execution_count": 8,
   "metadata": {},
   "outputs": [],
   "source": [
    "import matplotlib.pyplot as plt\n",
    "\n",
    "# ... (your code)\n",
    "\n",
    "# Set the backend to 'TkAgg'\n",
    "plt.switch_backend('TkAgg')"
   ]
  },
  {
   "cell_type": "code",
   "execution_count": 8,
   "metadata": {},
   "outputs": [
    {
     "data": {
      "text/plain": [
       "1.0"
      ]
     },
     "execution_count": 8,
     "metadata": {},
     "output_type": "execute_result"
    }
   ],
   "source": [
    "int(500 *1.05**3) /int(500 *1.05**3)"
   ]
  },
  {
   "cell_type": "code",
   "execution_count": 14,
   "metadata": {},
   "outputs": [
    {
     "name": "stdout",
     "output_type": "stream",
     "text": [
      "525 262 2\n",
      "551 275 3\n"
     ]
    }
   ],
   "source": [
    "alpha=1\n",
    "Nbr_f_pts_max_per_batch= 500 # 5000\n",
    "Nbr_f_pts_min_per_batch= 250\n",
    "for _ in range(2):\n",
    "    alpha+=1     \n",
    "    Nbr_f_pts_max_per_batch=int(1.05*Nbr_f_pts_max_per_batch)  \n",
    "    Nbr_f_pts_min_per_batch=int(1.05*Nbr_f_pts_min_per_batch)  \n",
    "    print(Nbr_f_pts_max_per_batch,Nbr_f_pts_min_per_batch,alpha)"
   ]
  },
  {
   "cell_type": "code",
   "execution_count": 15,
   "metadata": {},
   "outputs": [
    {
     "name": "stdout",
     "output_type": "stream",
     "text": [
      "499 249 3\n"
     ]
    }
   ],
   "source": [
    "Nbr_f_pts_max_per_batch = int(Nbr_f_pts_max_per_batch / (1.05 ** (alpha-1)))  # revert the increase\n",
    "Nbr_f_pts_min_per_batch = int(Nbr_f_pts_min_per_batch / (1.05 ** (alpha-1)))  # revert the increase\n",
    "print(Nbr_f_pts_max_per_batch,Nbr_f_pts_min_per_batch,alpha)"
   ]
  },
  {
   "cell_type": "code",
   "execution_count": 59,
   "metadata": {},
   "outputs": [
    {
     "name": "stdout",
     "output_type": "stream",
     "text": [
      "phi TensorShape([10, 2])\n",
      "x.shape TensorShape([10, 2])\n",
      "WARNING:tensorflow:Calling GradientTape.gradient on a persistent tape inside its context is significantly less efficient than calling it outside the context (it causes the gradient ops to be recorded on the tape, leading to increased CPU and memory usage). Only call GradientTape.gradient inside the context if you actually want to trace the gradient in order to compute higher order derivatives.\n"
     ]
    },
    {
     "ename": "AttributeError",
     "evalue": "'NoneType' object has no attribute 'shape'",
     "output_type": "error",
     "traceback": [
      "\u001b[0;31m---------------------------------------------------------------------------\u001b[0m",
      "\u001b[0;31mAttributeError\u001b[0m                            Traceback (most recent call last)",
      "\u001b[0;32m/tmp/ipykernel_1321030/4175107678.py\u001b[0m in \u001b[0;36m<module>\u001b[0;34m\u001b[0m\n\u001b[1;32m     17\u001b[0m \u001b[0;34m\u001b[0m\u001b[0m\n\u001b[1;32m     18\u001b[0m \u001b[0;34m\u001b[0m\u001b[0m\n\u001b[0;32m---> 19\u001b[0;31m     \u001b[0mtf\u001b[0m\u001b[0;34m.\u001b[0m\u001b[0mprint\u001b[0m\u001b[0;34m(\u001b[0m\u001b[0;34m\"phi_x.shape\"\u001b[0m\u001b[0;34m,\u001b[0m \u001b[0mphi_x\u001b[0m\u001b[0;34m.\u001b[0m\u001b[0mshape\u001b[0m\u001b[0;34m)\u001b[0m\u001b[0;34m\u001b[0m\u001b[0;34m\u001b[0m\u001b[0m\n\u001b[0m\u001b[1;32m     20\u001b[0m \u001b[0;34m\u001b[0m\u001b[0m\n\u001b[1;32m     21\u001b[0m \u001b[0;34m\u001b[0m\u001b[0m\n",
      "\u001b[0;31mAttributeError\u001b[0m: 'NoneType' object has no attribute 'shape'"
     ]
    }
   ],
   "source": [
    "import numpy as np\n",
    "import tensorflow as tf\n",
    "\n",
    "# Generate sample data\n",
    "num_samples = 10\n",
    "num_features = 2\n",
    "phi = np.random.rand(num_samples, num_features)\n",
    "x = np.random.rand(num_samples, num_features)\n",
    "phi = tf.constant(phi, dtype='float64')\n",
    "x = tf.constant(x, dtype='float64')\n",
    "with tf.GradientTape(persistent=True) as tape:\n",
    "    tf.print(\"phi\", phi.shape)\n",
    "    \n",
    "    tf.print(\"x.shape\", x.shape)\n",
    "\n",
    "    phi_x = tape.gradient(phi, x)\n",
    "\n",
    "        \n",
    "    tf.print(\"phi_x.shape\", phi_x.shape)\n",
    "\n",
    "\n",
    "\n"
   ]
  },
  {
   "cell_type": "code",
   "execution_count": 11,
   "metadata": {},
   "outputs": [
    {
     "name": "stdout",
     "output_type": "stream",
     "text": [
      "WARNING:tensorflow:Calling GradientTape.gradient on a persistent tape inside its context is significantly less efficient than calling it outside the context (it causes the gradient ops to be recorded on the tape, leading to increased CPU and memory usage). Only call GradientTape.gradient inside the context if you actually want to trace the gradient in order to compute higher order derivatives.\n",
      "None\n"
     ]
    }
   ],
   "source": [
    "import tensorflow as tf\n",
    "\n",
    "phi = tf.constant([[0.57216301331866315],\n",
    "                   [0.58973358583815072],\n",
    "                   [0.57216301331866315],\n",
    "                   [0.51324975953493235],\n",
    "                   [0.58973358583815072]], dtype=tf.float64)\n",
    "\n",
    "x = tf.constant([[0.84845350302273703],\n",
    "                 [0.83831411733031425],\n",
    "                 [0.82712762154129194],\n",
    "                 [0.89464855159043699],\n",
    "                 [0.82712762154129194]], dtype=tf.float64)\n",
    "\n",
    "\n",
    "\n",
    "    \n",
    "with tf.GradientTape(persistent=True) as tape:\n",
    "    tape.watch(phi)\n",
    "    tape.watch(x)  \n",
    "    phi_x = tape.gradient(phi, x)\n",
    "print(phi_x)\n",
    "\n",
    "\n",
    "\n"
   ]
  },
  {
   "cell_type": "code",
   "execution_count": 64,
   "metadata": {},
   "outputs": [
    {
     "name": "stdout",
     "output_type": "stream",
     "text": [
      "(2, 2)\n",
      "(2, 2)\n",
      "WARNING:tensorflow:AutoGraph could not transform <function pfor.<locals>.f at 0x7f0180638790> and will run it as-is.\n",
      "Please report this to the TensorFlow team. When filing the bug, set the verbosity to 10 (on Linux, `export AUTOGRAPH_VERBOSITY=10`) and attach the full output.\n",
      "Cause: closure mismatch, requested ('fallback_to_while_loop', 'iters', 'loop_fn', 'parallel_iterations', 'warn'), but source function had ()\n",
      "To silence this warning, decorate the function with @tf.autograph.experimental.do_not_convert\n",
      "WARNING: AutoGraph could not transform <function pfor.<locals>.f at 0x7f0180638790> and will run it as-is.\n",
      "Please report this to the TensorFlow team. When filing the bug, set the verbosity to 10 (on Linux, `export AUTOGRAPH_VERBOSITY=10`) and attach the full output.\n",
      "Cause: closure mismatch, requested ('fallback_to_while_loop', 'iters', 'loop_fn', 'parallel_iterations', 'warn'), but source function had ()\n",
      "To silence this warning, decorate the function with @tf.autograph.experimental.do_not_convert\n",
      "WARNING:tensorflow:5 out of the last 5 calls to <function pfor.<locals>.f at 0x7f0180638790> triggered tf.function retracing. Tracing is expensive and the excessive number of tracings could be due to (1) creating @tf.function repeatedly in a loop, (2) passing tensors with different shapes, (3) passing Python objects instead of tensors. For (1), please define your @tf.function outside of the loop. For (2), @tf.function has reduce_retracing=True option that can avoid unnecessary retracing. For (3), please refer to https://www.tensorflow.org/guide/function#controlling_retracing and https://www.tensorflow.org/api_docs/python/tf/function for  more details.\n"
     ]
    },
    {
     "data": {
      "text/plain": [
       "<tf.Tensor: shape=(2, 2, 2), dtype=float64, numpy=\n",
       "array([[[2., 0.],\n",
       "        [0., 4.]],\n",
       "\n",
       "       [[6., 0.],\n",
       "        [0., 8.]]])>"
      ]
     },
     "execution_count": 64,
     "metadata": {},
     "output_type": "execute_result"
    }
   ],
   "source": [
    "with tf.GradientTape() as g:\n",
    "  x = tf.constant([[1., 2.], [3., 4.]], dtype=tf.float64)\n",
    "  g.watch(x)\n",
    "  y = x * x\n",
    "  print(x.shape)\n",
    "  print(y.shape)\n",
    "batch_jacobian = g.batch_jacobian(y, x)\n",
    "batch_jacobian"
   ]
  },
  {
   "cell_type": "code",
   "execution_count": 80,
   "metadata": {},
   "outputs": [
    {
     "name": "stdout",
     "output_type": "stream",
     "text": [
      "None\n"
     ]
    }
   ],
   "source": [
    "phi = tf.constant([0.57216301331866315,\n",
    "                   0.58973358583815072,\n",
    "                   0.57216301331866315,\n",
    "                   0.51324975953493235,\n",
    "                   0.58973358583815072], dtype=tf.float64)\n",
    "\n",
    "x=tf.constant([[1., 2.], [3., 4.]], dtype=tf.float64)\n",
    "\n",
    "with tf.GradientTape(\n",
    "      watch_accessed_variables=False, persistent=True) as tape:\n",
    "    tape.watch(x)\n",
    " \n",
    "    \n",
    "\n",
    "\n",
    "dy_dx = tape.gradient(x*x, x)\n",
    "print(dy_dx)"
   ]
  },
  {
   "cell_type": "code",
   "execution_count": 24,
   "metadata": {},
   "outputs": [
    {
     "name": "stdout",
     "output_type": "stream",
     "text": [
      "(5,)\n",
      "(5,)\n",
      "None\n"
     ]
    }
   ],
   "source": [
    "import tensorflow as tf \n",
    "x = tf.constant([0.57216301331866315,\n",
    "                   0.58973358583815072,\n",
    "                   0.57216301331866315,\n",
    "                   0.51324975953493235,\n",
    "                   0.58973358583815072], dtype=tf.float64)\n",
    "phi = tf.constant([0.81845350302273703,\n",
    "                 0.82831411733031425,\n",
    "                 0.83712762154129194,\n",
    "                 0.89464855159043699,\n",
    "                 0.99712762154129194], dtype=tf.float64)\n",
    "print(x.shape)\n",
    "with tf.GradientTape(persistent=True) as tape:\n",
    "  tape.watch(x)\n",
    "  tape.watch(phi)\n",
    "  print(phi.shape)\n",
    "\n",
    "\n",
    "  print(tape.gradient(phi, x))  \n",
    "  del tape\n"
   ]
  },
  {
   "cell_type": "code",
   "execution_count": 28,
   "metadata": {},
   "outputs": [
    {
     "ename": "ValueError",
     "evalue": "Shape (5,) must have rank at least 2",
     "output_type": "error",
     "traceback": [
      "\u001b[0;31m---------------------------------------------------------------------------\u001b[0m",
      "\u001b[0;31mValueError\u001b[0m                                Traceback (most recent call last)",
      "\u001b[0;32m/tmp/ipykernel_1406761/3079712658.py\u001b[0m in \u001b[0;36m<module>\u001b[0;34m\u001b[0m\n\u001b[1;32m      9\u001b[0m     \u001b[0mtape\u001b[0m\u001b[0;34m.\u001b[0m\u001b[0mwatch\u001b[0m\u001b[0;34m(\u001b[0m\u001b[0mv\u001b[0m\u001b[0;34m)\u001b[0m  \u001b[0;31m# Watch the 'v' tensor\u001b[0m\u001b[0;34m\u001b[0m\u001b[0;34m\u001b[0m\u001b[0m\n\u001b[1;32m     10\u001b[0m \u001b[0;34m\u001b[0m\u001b[0m\n\u001b[0;32m---> 11\u001b[0;31m \u001b[0mgradient_u_with_respect_to_v\u001b[0m \u001b[0;34m=\u001b[0m \u001b[0mtape\u001b[0m\u001b[0;34m.\u001b[0m\u001b[0mbatch_jacobian\u001b[0m \u001b[0;34m(\u001b[0m\u001b[0mu\u001b[0m\u001b[0;34m,\u001b[0m \u001b[0mv\u001b[0m\u001b[0;34m)\u001b[0m\u001b[0;34m\u001b[0m\u001b[0;34m\u001b[0m\u001b[0m\n\u001b[0m\u001b[1;32m     12\u001b[0m \u001b[0;34m\u001b[0m\u001b[0m\n\u001b[1;32m     13\u001b[0m \u001b[0mprint\u001b[0m\u001b[0;34m(\u001b[0m\u001b[0;34m\"u:\"\u001b[0m\u001b[0;34m,\u001b[0m \u001b[0mu\u001b[0m\u001b[0;34m)\u001b[0m\u001b[0;34m\u001b[0m\u001b[0;34m\u001b[0m\u001b[0m\n",
      "\u001b[0;32m~/anaconda3/lib/python3.9/site-packages/tensorflow/python/eager/backprop.py\u001b[0m in \u001b[0;36mbatch_jacobian\u001b[0;34m(self, target, source, unconnected_gradients, parallel_iterations, experimental_use_pfor)\u001b[0m\n\u001b[1;32m   1268\u001b[0m     \u001b[0;32melse\u001b[0m\u001b[0;34m:\u001b[0m\u001b[0;34m\u001b[0m\u001b[0;34m\u001b[0m\u001b[0m\n\u001b[1;32m   1269\u001b[0m       \u001b[0mdim\u001b[0m \u001b[0;34m=\u001b[0m \u001b[0mtarget_shape\u001b[0m\u001b[0;34m.\u001b[0m\u001b[0mdims\u001b[0m\u001b[0;34m[\u001b[0m\u001b[0;36m0\u001b[0m\u001b[0;34m]\u001b[0m\u001b[0;34m\u001b[0m\u001b[0;34m\u001b[0m\u001b[0m\n\u001b[0;32m-> 1270\u001b[0;31m     if not (target_shape.with_rank_at_least(2) and\n\u001b[0m\u001b[1;32m   1271\u001b[0m             \u001b[0msource\u001b[0m\u001b[0;34m.\u001b[0m\u001b[0mshape\u001b[0m\u001b[0;34m.\u001b[0m\u001b[0mwith_rank_at_least\u001b[0m\u001b[0;34m(\u001b[0m\u001b[0;36m2\u001b[0m\u001b[0;34m)\u001b[0m \u001b[0;32mand\u001b[0m\u001b[0;34m\u001b[0m\u001b[0;34m\u001b[0m\u001b[0m\n\u001b[1;32m   1272\u001b[0m             dim.is_compatible_with(source.shape[0])):\n",
      "\u001b[0;32m~/anaconda3/lib/python3.9/site-packages/tensorflow/python/framework/tensor_shape.py\u001b[0m in \u001b[0;36mwith_rank_at_least\u001b[0;34m(self, rank)\u001b[0m\n\u001b[1;32m   1139\u001b[0m     \"\"\"\n\u001b[1;32m   1140\u001b[0m     \u001b[0;32mif\u001b[0m \u001b[0mself\u001b[0m\u001b[0;34m.\u001b[0m\u001b[0mrank\u001b[0m \u001b[0;32mis\u001b[0m \u001b[0;32mnot\u001b[0m \u001b[0;32mNone\u001b[0m \u001b[0;32mand\u001b[0m \u001b[0mself\u001b[0m\u001b[0;34m.\u001b[0m\u001b[0mrank\u001b[0m \u001b[0;34m<\u001b[0m \u001b[0mrank\u001b[0m\u001b[0;34m:\u001b[0m\u001b[0;34m\u001b[0m\u001b[0;34m\u001b[0m\u001b[0m\n\u001b[0;32m-> 1141\u001b[0;31m       \u001b[0;32mraise\u001b[0m \u001b[0mValueError\u001b[0m\u001b[0;34m(\u001b[0m\u001b[0;34m\"Shape %s must have rank at least %d\"\u001b[0m \u001b[0;34m%\u001b[0m \u001b[0;34m(\u001b[0m\u001b[0mself\u001b[0m\u001b[0;34m,\u001b[0m \u001b[0mrank\u001b[0m\u001b[0;34m)\u001b[0m\u001b[0;34m)\u001b[0m\u001b[0;34m\u001b[0m\u001b[0;34m\u001b[0m\u001b[0m\n\u001b[0m\u001b[1;32m   1142\u001b[0m     \u001b[0;32melse\u001b[0m\u001b[0;34m:\u001b[0m\u001b[0;34m\u001b[0m\u001b[0;34m\u001b[0m\u001b[0m\n\u001b[1;32m   1143\u001b[0m       \u001b[0;32mreturn\u001b[0m \u001b[0mself\u001b[0m\u001b[0;34m\u001b[0m\u001b[0;34m\u001b[0m\u001b[0m\n",
      "\u001b[0;31mValueError\u001b[0m: Shape (5,) must have rank at least 2"
     ]
    }
   ],
   "source": [
    "import tensorflow as tf\n",
    "\n",
    "# Example vectors\n",
    "u = tf.constant([0.7, 0.5, 0.2, 0.9, 0.3], dtype=tf.float32)\n",
    "v = tf.constant([1.2, 2.5, 0.8, 0.4, 3.0], dtype=tf.float32)\n",
    "\n",
    "# Compute the gradient using tf.GradientTape\n",
    "with tf.GradientTape(persistent=True) as tape:\n",
    "    tape.watch(v)  # Watch the 'v' tensor\n",
    "\n",
    "gradient_u_with_respect_to_v = tape.batch_jacobian (u, v)\n",
    "\n",
    "print(\"u:\", u)\n",
    "print(\"v:\", v)\n",
    "print(\"Gradient of 'u' with respect to 'v':\", gradient_u_with_respect_to_v)\n",
    "\n",
    "# Clean up the resources used by the tape\n",
    "del tape\n"
   ]
  },
  {
   "cell_type": "code",
   "execution_count": 34,
   "metadata": {},
   "outputs": [
    {
     "ename": "SyntaxError",
     "evalue": "invalid syntax (3646211723.py, line 7)",
     "output_type": "error",
     "traceback": [
      "\u001b[0;36m  File \u001b[0;32m\"/tmp/ipykernel_1747073/3646211723.py\"\u001b[0;36m, line \u001b[0;32m7\u001b[0m\n\u001b[0;31m    0.58973358583815072](, dtype=tf.float64)\u001b[0m\n\u001b[0m                         ^\u001b[0m\n\u001b[0;31mSyntaxError\u001b[0m\u001b[0;31m:\u001b[0m invalid syntax\n"
     ]
    }
   ],
   "source": [
    "import tensorflow as tf\n",
    "\n",
    "phi = tf.constant[0.57216301331866315,\n",
    "                   0.58973358583815072,\n",
    "                   0.57216301331866315,\n",
    "                   0.51324975953493235,\n",
    "                   0.58973358583815072](, dtype=tf.float64)\n",
    "\n",
    "x = tf.constant([0.81845350302273703,\n",
    "                 0.82831411733031425,\n",
    "                 0.83712762154129194,\n",
    "                 0.89464855159043699,\n",
    "                 0.99712762154129194], dtype=tf.float64)\n",
    "\n",
    "with tf.GradientTape(persistent=True) as tape:\n",
    "    tape.watch(phi)\n",
    "    tape.watch(x)\n",
    "    \n",
    "\n",
    "\n",
    "\n",
    "    grad_phi_x = tape.gradient(phi, x)\n",
    "    print(grad_phi_x)\n",
    "    del tape\n",
    "   \n"
   ]
  },
  {
   "cell_type": "code",
   "execution_count": 14,
   "metadata": {},
   "outputs": [
    {
     "name": "stdout",
     "output_type": "stream",
     "text": [
      "(6, 1) (6, 1)\n"
     ]
    },
    {
     "ename": "AttributeError",
     "evalue": "module 'tensorflow' has no attribute 'batch_jacobian'",
     "output_type": "error",
     "traceback": [
      "\u001b[0;31m---------------------------------------------------------------------------\u001b[0m",
      "\u001b[0;31mAttributeError\u001b[0m                            Traceback (most recent call last)",
      "Cell \u001b[0;32mIn[14], line 25\u001b[0m\n\u001b[1;32m     22\u001b[0m \u001b[39mdef\u001b[39;00m \u001b[39mcompute_phi\u001b[39m(x):\n\u001b[1;32m     23\u001b[0m     \u001b[39mreturn\u001b[39;00m x \u001b[39m*\u001b[39m\u001b[39m*\u001b[39m \u001b[39m2\u001b[39m  \u001b[39m# Replace with your actual phi computation\u001b[39;00m\n\u001b[0;32m---> 25\u001b[0m batch_jacobian_phi_x \u001b[39m=\u001b[39m tf\u001b[39m.\u001b[39;49mbatch_jacobian(compute_phi, x)\n\u001b[1;32m     27\u001b[0m \u001b[39mprint\u001b[39m(\u001b[39m\"\u001b[39m\u001b[39mBatch Jacobian of phi with respect to x:\u001b[39m\u001b[39m\\n\u001b[39;00m\u001b[39m\"\u001b[39m, batch_jacobian_phi_x)\n",
      "\u001b[0;31mAttributeError\u001b[0m: module 'tensorflow' has no attribute 'batch_jacobian'"
     ]
    }
   ],
   "source": []
  },
  {
   "cell_type": "code",
   "execution_count": null,
   "metadata": {},
   "outputs": [],
   "source": [
    "Epoch: 0, total_loss: 5.391e-04, loss_BC: 0.000e+00, loss_IC: 3.485e-04, loss_f: 1.907e-04\n"
   ]
  },
  {
   "cell_type": "code",
   "execution_count": 11,
   "metadata": {},
   "outputs": [
    {
     "name": "stdout",
     "output_type": "stream",
     "text": [
      "(4, 1) (4, 1)\n",
      "tf.Tensor(\n",
      "[[0.2       ]\n",
      " [0.40000001]\n",
      " [0.60000002]\n",
      " [0.80000001]], shape=(4, 1), dtype=float64)\n"
     ]
    }
   ],
   "source": [
    "import tensorflow as tf\n",
    "\n",
    "y = tf.cast([0.2,\n",
    "                   0.4,\n",
    "                   0.6,\n",
    "                   0.8], dtype=tf.float64)\n",
    "\n",
    "x = tf.cast([0.1,\n",
    "                 0.2,\n",
    "                 0.3,\n",
    "                 0.4], dtype=tf.float64)\n",
    "\n",
    "x = tf.reshape(x, (-1, 1))\n",
    "y = tf.reshape(y, (-1, 1))\n",
    "print(x.shape,y.shape)\n",
    "\n",
    "with tf.GradientTape() as tape:\n",
    "    \n",
    "    tape.watch(x)\n",
    "    z=y*(x)\n",
    "    tape.watch(z)\n",
    "    grad_y_x = tape.gradient(z,x)\n",
    "    print(grad_y_x)\n",
    "del tape\n"
   ]
  },
  {
   "cell_type": "code",
   "execution_count": 5,
   "metadata": {},
   "outputs": [
    {
     "data": {
      "text/plain": [
       "array([], shape=(4, 0), dtype=float64)"
      ]
     },
     "execution_count": 5,
     "metadata": {},
     "output_type": "execute_result"
    }
   ],
   "source": [
    "import numpy as np\n",
    "np.diff(y)"
   ]
  },
  {
   "cell_type": "code",
   "execution_count": 26,
   "metadata": {},
   "outputs": [
    {
     "name": "stdout",
     "output_type": "stream",
     "text": [
      "Requirement already satisfied: pip in /home/selfetni/anaconda3/lib/python3.9/site-packages (22.2.2)\n",
      "Collecting pip\n",
      "  Using cached pip-23.2.1-py3-none-any.whl (2.1 MB)\n",
      "Installing collected packages: pip\n",
      "  Attempting uninstall: pip\n",
      "    Found existing installation: pip 22.2.2\n",
      "    Uninstalling pip-22.2.2:\n",
      "      Successfully uninstalled pip-22.2.2\n",
      "Successfully installed pip-23.2.1\n"
     ]
    }
   ],
   "source": [
    "!python -m pip install --upgrade pip"
   ]
  },
  {
   "cell_type": "code",
   "execution_count": 30,
   "metadata": {},
   "outputs": [
    {
     "ename": "AttributeError",
     "evalue": "module 'tensorflow._api.v2.autodiff' has no attribute 'batch_jacobian'",
     "output_type": "error",
     "traceback": [
      "\u001b[0;31m---------------------------------------------------------------------------\u001b[0m",
      "\u001b[0;31mAttributeError\u001b[0m                            Traceback (most recent call last)",
      "\u001b[0;32m/tmp/ipykernel_1406761/850277236.py\u001b[0m in \u001b[0;36m<module>\u001b[0;34m\u001b[0m\n\u001b[1;32m     10\u001b[0m \u001b[0;34m\u001b[0m\u001b[0m\n\u001b[1;32m     11\u001b[0m \u001b[0;31m# Compute the batch Jacobian using tf.autodiff.batch_jacobian()\u001b[0m\u001b[0;34m\u001b[0m\u001b[0;34m\u001b[0m\u001b[0m\n\u001b[0;32m---> 12\u001b[0;31m \u001b[0mjacobian\u001b[0m \u001b[0;34m=\u001b[0m \u001b[0mtf\u001b[0m\u001b[0;34m.\u001b[0m\u001b[0mautodiff\u001b[0m\u001b[0;34m.\u001b[0m\u001b[0mbatch_jacobian\u001b[0m\u001b[0;34m(\u001b[0m\u001b[0mcompute_u\u001b[0m\u001b[0;34m,\u001b[0m \u001b[0mv\u001b[0m\u001b[0;34m)\u001b[0m\u001b[0;34m\u001b[0m\u001b[0;34m\u001b[0m\u001b[0m\n\u001b[0m\u001b[1;32m     13\u001b[0m \u001b[0;34m\u001b[0m\u001b[0m\n\u001b[1;32m     14\u001b[0m \u001b[0mprint\u001b[0m\u001b[0;34m(\u001b[0m\u001b[0;34m\"u:\\n\"\u001b[0m\u001b[0;34m,\u001b[0m \u001b[0mu\u001b[0m\u001b[0;34m)\u001b[0m\u001b[0;34m\u001b[0m\u001b[0;34m\u001b[0m\u001b[0m\n",
      "\u001b[0;31mAttributeError\u001b[0m: module 'tensorflow._api.v2.autodiff' has no attribute 'batch_jacobian'"
     ]
    }
   ],
   "source": [
    "import tensorflow as tf\n",
    "\n",
    "# Example vectors\n",
    "u = tf.constant([[0.7], [0.5], [0.2], [0.9], [0.3]], dtype=tf.float32)\n",
    "v = tf.constant([[1.2], [2.5], [0.8], [0.4], [3.0]], dtype=tf.float32)\n",
    "\n",
    "# Define a function that computes u using v\n",
    "def compute_u(v):\n",
    "    return v ** 2\n",
    "\n",
    "# Compute the batch Jacobian using tf.autodiff.batch_jacobian()\n",
    "jacobian = tf.autodiff.batch_jacobian(compute_u, v)\n",
    "\n",
    "print(\"u:\\n\", u)\n",
    "print(\"v:\\n\", v)\n",
    "print(\"Batch Jacobian of 'u' with respect to 'v':\\n\", jacobian)\n"
   ]
  },
  {
   "cell_type": "code",
   "execution_count": 39,
   "metadata": {},
   "outputs": [
    {
     "name": "stdout",
     "output_type": "stream",
     "text": [
      "tf.Tensor(\n",
      "[[[0.]]\n",
      "\n",
      " [[0.]]\n",
      "\n",
      " [[0.]]\n",
      "\n",
      " [[0.]]\n",
      "\n",
      " [[0.]]], shape=(5, 1, 1), dtype=float64)\n"
     ]
    }
   ],
   "source": [
    "import tensorflow as tf\n",
    "\n",
    "phi = tf.constant([[0.7],\n",
    "                   [0.5],\n",
    "                   [0.2],\n",
    "                   [0.9],\n",
    "                   [0.3]], dtype=tf.float64)\n",
    "\n",
    "x = tf.constant([[1.2],\n",
    "                 [2.5],\n",
    "                 [0.8],\n",
    "                 [0.4],\n",
    "                 [3.0]], dtype=tf.float64)\n",
    "\n",
    "\n",
    "\n",
    "with tf.GradientTape() as tape:\n",
    "    tape.watch(phi)\n",
    "    tape.watch(x)\n",
    "\n",
    "\n",
    "grad_phi_x = tape.batch_jacobian(2*x, x)\n",
    "print(grad_phi_x)\n"
   ]
  },
  {
   "cell_type": "code",
   "execution_count": 6,
   "metadata": {},
   "outputs": [
    {
     "name": "stdout",
     "output_type": "stream",
     "text": [
      "0\n"
     ]
    }
   ],
   "source": [
    "pinns_below_avg=[1,2,3]\n",
    "idx_pinn=0\n",
    "target_idx_values = [target_idx for target_idx in pinns_below_avg]\n",
    "differences = [abs(idx_pinn - idx) for idx in target_idx_values]\n",
    "nearest_index = differences.index(min(differences))\n",
    "print(nearest_index)"
   ]
  },
  {
   "cell_type": "code",
   "execution_count": 7,
   "metadata": {},
   "outputs": [
    {
     "name": "stdout",
     "output_type": "stream",
     "text": [
      "1\n"
     ]
    }
   ],
   "source": [
    "pinns_below_avg = [1, 2, 3]\n",
    "idx_pinn = 0\n",
    "differences = [abs(idx_pinn - idx) for idx in pinns_below_avg]\n",
    "nearest_element = pinns_below_avg[differences.index(min(differences))]\n",
    "print(nearest_element)\n"
   ]
  },
  {
   "cell_type": "code",
   "execution_count": 24,
   "metadata": {},
   "outputs": [
    {
     "name": "stdout",
     "output_type": "stream",
     "text": [
      "[[ 0  1  2  3]\n",
      " [ 4  5  6  7]\n",
      " [ 8  9 10 11]\n",
      " [12 13 14 15]]\n"
     ]
    }
   ],
   "source": [
    "import numpy as np\n",
    "\n",
    "N_batches = 16\n",
    "matrix_size = int(np.sqrt(N_batches))\n",
    "\n",
    "# Create a square matrix containing indices\n",
    "matrix = np.arange(N_batches).reshape(matrix_size, matrix_size)\n",
    "\n",
    "print(matrix)"
   ]
  },
  {
   "cell_type": "code",
   "execution_count": 25,
   "metadata": {},
   "outputs": [
    {
     "name": "stdout",
     "output_type": "stream",
     "text": [
      "Quarter 1 Indices:\n",
      "[ 0  1  2  6  7  8 12 13 14]\n",
      "\n",
      "Quarter 2 Indices:\n",
      "[ 3  4  5  9 10 11 15 16 17]\n",
      "\n",
      "Quarter 3 Indices:\n",
      "[18 19 20 24 25 26 30 31 32]\n",
      "\n",
      "Quarter 4 Indices:\n",
      "[21 22 23 27 28 29 33 34 35]\n"
     ]
    }
   ],
   "source": [
    "import numpy as np\n",
    "\n",
    "N_batches = 36\n",
    "matrix_size = int(np.sqrt(N_batches))\n",
    "\n",
    "# Create a square matrix containing indices\n",
    "matrix = np.arange(N_batches).reshape(matrix_size, matrix_size)\n",
    "\n",
    "# Divide the matrix into four quarters\n",
    "quarter1 = matrix[:matrix_size//2, :matrix_size//2]\n",
    "quarter2 = matrix[:matrix_size//2, matrix_size//2:]\n",
    "quarter3 = matrix[matrix_size//2:, :matrix_size//2]\n",
    "quarter4 = matrix[matrix_size//2:, matrix_size//2:]\n",
    "\n",
    "# Print the indices of each quarter as single lists\n",
    "print(\"Quarter 1 Indices:\")\n",
    "print(quarter1.flatten())\n",
    "\n",
    "print(\"\\nQuarter 2 Indices:\")\n",
    "print(quarter2.flatten())\n",
    "\n",
    "print(\"\\nQuarter 3 Indices:\")\n",
    "print(quarter3.flatten())\n",
    "\n",
    "print(\"\\nQuarter 4 Indices:\")\n",
    "print(quarter4.flatten())\n"
   ]
  },
  {
   "cell_type": "code",
   "execution_count": 3,
   "metadata": {},
   "outputs": [
    {
     "data": {
      "text/plain": [
       "array([0, 1])"
      ]
     },
     "execution_count": 3,
     "metadata": {},
     "output_type": "execute_result"
    }
   ],
   "source": [
    "quarter1[0]"
   ]
  },
  {
   "attachments": {},
   "cell_type": "markdown",
   "metadata": {},
   "source": [
    "Cuda"
   ]
  },
  {
   "cell_type": "code",
   "execution_count": null,
   "metadata": {},
   "outputs": [],
   "source": [
    "import numpy as np\n",
    "\n",
    "def add_arrays(a, b):\n",
    "    return a + b\n",
    "\n",
    "# Main program\n",
    "if __name__ == \"__main__\":\n",
    "    array_size = 1000000  # Size of the arrays\n",
    "    a = np.random.rand(array_size).astype(np.float32)\n",
    "    b = np.random.rand(array_size).astype(np.float32)\n",
    "\n",
    "    result = add_arrays(a, b)\n"
   ]
  },
  {
   "attachments": {},
   "cell_type": "markdown",
   "metadata": {},
   "source": [
    "# GPU"
   ]
  },
  {
   "cell_type": "code",
   "execution_count": 2,
   "metadata": {},
   "outputs": [
    {
     "name": "stdout",
     "output_type": "stream",
     "text": [
      "Defaulting to user installation because normal site-packages is not writeable\n",
      "Collecting jaxlib\n",
      "  Obtaining dependency information for jaxlib from https://files.pythonhosted.org/packages/62/a1/beb609f27603cf2ce6f3fb14ad2e93bde9324158f872e46509d52b178cdc/jaxlib-0.4.14-cp310-cp310-manylinux2014_x86_64.whl.metadata\n",
      "  Downloading jaxlib-0.4.14-cp310-cp310-manylinux2014_x86_64.whl.metadata (2.0 kB)\n",
      "Requirement already satisfied: scipy>=1.7 in /home/selfetni/.local/lib/python3.10/site-packages (from jaxlib) (1.10.1)\n",
      "Requirement already satisfied: numpy>=1.22 in /home/selfetni/.local/lib/python3.10/site-packages (from jaxlib) (1.24.1)\n",
      "Requirement already satisfied: ml-dtypes>=0.2.0 in /home/selfetni/.local/lib/python3.10/site-packages (from jaxlib) (0.2.0)\n",
      "Downloading jaxlib-0.4.14-cp310-cp310-manylinux2014_x86_64.whl (73.7 MB)\n",
      "\u001b[2K   \u001b[90m━━━━━━━━━━━━━━━━━━━━━━━━━━━━━━━━━━━━━━━━\u001b[0m \u001b[32m73.7/73.7 MB\u001b[0m \u001b[31m14.8 MB/s\u001b[0m eta \u001b[36m0:00:00\u001b[0m00:01\u001b[0m00:01\u001b[0m\n",
      "\u001b[?25hInstalling collected packages: jaxlib\n",
      "Successfully installed jaxlib-0.4.14\n",
      "Note: you may need to restart the kernel to use updated packages.\n"
     ]
    }
   ],
   "source": [
    "pip install jaxlib"
   ]
  },
  {
   "cell_type": "code",
   "execution_count": null,
   "metadata": {},
   "outputs": [],
   "source": [
    "pip install tensorflow"
   ]
  },
  {
   "cell_type": "code",
   "execution_count": null,
   "metadata": {},
   "outputs": [],
   "source": [
    "pip install --upgrade tensorflow"
   ]
  },
  {
   "cell_type": "code",
   "execution_count": 2,
   "metadata": {},
   "outputs": [
    {
     "name": "stdout",
     "output_type": "stream",
     "text": [
      "Num GPUs Available:  1\n"
     ]
    }
   ],
   "source": [
    "import tensorflow as tf\n",
    "print(\"Num GPUs Available: \", len(tf.config.experimental.list_physical_devices('GPU')))\n"
   ]
  },
  {
   "cell_type": "code",
   "execution_count": 8,
   "metadata": {},
   "outputs": [
    {
     "name": "stdout",
     "output_type": "stream",
     "text": [
      "Defaulting to user installation because normal site-packages is not writeable\n",
      "Requirement already satisfied: sklearn in /home/selfetni/.local/lib/python3.10/site-packages (0.0.post9)\n"
     ]
    }
   ],
   "source": [
    "!pip install sklearn"
   ]
  },
  {
   "cell_type": "code",
   "execution_count": 11,
   "metadata": {},
   "outputs": [
    {
     "name": "stdout",
     "output_type": "stream",
     "text": [
      "Tensor Flow Version: 2.13.0\n",
      "\n",
      "Python 3.10.12 (main, Jun 11 2023, 05:26:28) [GCC 11.4.0]\n",
      "Pandas 1.5.3\n",
      "GPU is NOT AVAILABLE\n"
     ]
    }
   ],
   "source": [
    "import sys\n",
    "\n",
    "import tensorflow.keras\n",
    "import pandas as pd\n",
    "#import sklearn as sk\n",
    "import tensorflow as tf\n",
    "\n",
    "print(f\"Tensor Flow Version: {tf.__version__}\")\n",
    "#print(f\"Keras Version: {tensorflow.keras.__version__}\")\n",
    "print()\n",
    "print(f\"Python {sys.version}\")\n",
    "print(f\"Pandas {pd.__version__}\")\n",
    "#print(f\"Scikit-Learn {sk.__version__}\")\n",
    "gpu = len(tf.config.list_physical_devices('GPU'))>0\n",
    "print(\"GPU is\", \"available\" if gpu else \"NOT AVAILABLE\")"
   ]
  },
  {
   "cell_type": "code",
   "execution_count": 2,
   "metadata": {},
   "outputs": [
    {
     "name": "stderr",
     "output_type": "stream",
     "text": [
      "2023-09-11 11:58:37.332466: I tensorflow/compiler/xla/stream_executor/cuda/cuda_gpu_executor.cc:995] successful NUMA node read from SysFS had negative value (-1), but there must be at least one NUMA node, so returning NUMA node zero. See more at https://github.com/torvalds/linux/blob/v6.0/Documentation/ABI/testing/sysfs-bus-pci#L344-L355\n",
      "2023-09-11 11:58:37.332846: W tensorflow/core/common_runtime/gpu/gpu_device.cc:1960] Cannot dlopen some GPU libraries. Please make sure the missing libraries mentioned above are installed properly if you would like to use GPU. Follow the guide at https://www.tensorflow.org/install/gpu for how to download and setup the required libraries for your platform.\n",
      "Skipping registering GPU devices...\n"
     ]
    },
    {
     "data": {
      "text/plain": [
       "False"
      ]
     },
     "execution_count": 2,
     "metadata": {},
     "output_type": "execute_result"
    }
   ],
   "source": [
    "import tensorflow as tf\n",
    "tf.test.is_built_with_cuda()\n",
    "tf.test.is_gpu_available(cuda_only=False, min_cuda_compute_capability=None)"
   ]
  },
  {
   "cell_type": "code",
   "execution_count": 9,
   "metadata": {},
   "outputs": [],
   "source": [
    "gpus = tf.config.experimental.list_physical_devices('GPU')\n",
    "if gpus:\n",
    "    try:\n",
    "        for gpu in gpus:\n",
    "            tf.config.experimental.set_memory_growth(gpu, True)\n",
    "    except RuntimeError as e:\n",
    "        print(e)\n"
   ]
  },
  {
   "cell_type": "code",
   "execution_count": 2,
   "metadata": {},
   "outputs": [
    {
     "name": "stdout",
     "output_type": "stream",
     "text": [
      "Num GPUs Available:  0\n"
     ]
    }
   ],
   "source": [
    "import os\n",
    "os.environ[\"CUDA_VISIBLE_DEVICES\"] = \"0\"\n",
    "import tensorflow as tf\n",
    "print(\"Num GPUs Available: \", len(tf.config.list_physical_devices('GPU')))"
   ]
  },
  {
   "cell_type": "code",
   "execution_count": 10,
   "metadata": {},
   "outputs": [],
   "source": [
    "import tensorflow as tf\n",
    "\n",
    "# Specify the GPU device you want to use (e.g., GPU 0)\n",
    "physical_devices = tf.config.list_physical_devices('GPU')\n",
    "if physical_devices:\n",
    "    tf.config.experimental.set_memory_growth(physical_devices[0], True)\n"
   ]
  },
  {
   "cell_type": "code",
   "execution_count": 5,
   "metadata": {},
   "outputs": [
    {
     "name": "stdout",
     "output_type": "stream",
     "text": [
      "Defaulting to user installation because normal site-packages is not writeable\n",
      "Collecting tensorflow-gpu\n",
      "  Using cached tensorflow-gpu-2.12.0.tar.gz (2.6 kB)\n",
      "  Preparing metadata (setup.py) ... \u001b[?25ldone\n",
      "\u001b[?25hCollecting python_version>\"3.7\" (from tensorflow-gpu)\n",
      "  Using cached python_version-0.0.2-py2.py3-none-any.whl (3.4 kB)\n",
      "Building wheels for collected packages: tensorflow-gpu\n",
      "  Building wheel for tensorflow-gpu (setup.py) ... \u001b[?25lerror\n",
      "  \u001b[1;31merror\u001b[0m: \u001b[1msubprocess-exited-with-error\u001b[0m\n",
      "  \n",
      "  \u001b[31m×\u001b[0m \u001b[32mpython setup.py bdist_wheel\u001b[0m did not run successfully.\n",
      "  \u001b[31m│\u001b[0m exit code: \u001b[1;36m1\u001b[0m\n",
      "  \u001b[31m╰─>\u001b[0m \u001b[31m[18 lines of output]\u001b[0m\n",
      "  \u001b[31m   \u001b[0m Traceback (most recent call last):\n",
      "  \u001b[31m   \u001b[0m   File \"<string>\", line 2, in <module>\n",
      "  \u001b[31m   \u001b[0m   File \"<pip-setuptools-caller>\", line 34, in <module>\n",
      "  \u001b[31m   \u001b[0m   File \"/tmp/pip-install-o37jxhf2/tensorflow-gpu_6ca9aafd077e4d71b8c068f4c7ced540/setup.py\", line 37, in <module>\n",
      "  \u001b[31m   \u001b[0m     raise Exception(TF_REMOVAL_WARNING)\n",
      "  \u001b[31m   \u001b[0m Exception:\n",
      "  \u001b[31m   \u001b[0m \n",
      "  \u001b[31m   \u001b[0m =========================================================\n",
      "  \u001b[31m   \u001b[0m The \"tensorflow-gpu\" package has been removed!\n",
      "  \u001b[31m   \u001b[0m \n",
      "  \u001b[31m   \u001b[0m Please install \"tensorflow\" instead.\n",
      "  \u001b[31m   \u001b[0m \n",
      "  \u001b[31m   \u001b[0m Other than the name, the two packages have been identical\n",
      "  \u001b[31m   \u001b[0m since TensorFlow 2.1, or roughly since Sep 2019. For more\n",
      "  \u001b[31m   \u001b[0m information, see: pypi.org/project/tensorflow-gpu\n",
      "  \u001b[31m   \u001b[0m =========================================================\n",
      "  \u001b[31m   \u001b[0m \n",
      "  \u001b[31m   \u001b[0m \n",
      "  \u001b[31m   \u001b[0m \u001b[31m[end of output]\u001b[0m\n",
      "  \n",
      "  \u001b[1;35mnote\u001b[0m: This error originates from a subprocess, and is likely not a problem with pip.\n",
      "\u001b[31m  ERROR: Failed building wheel for tensorflow-gpu\u001b[0m\u001b[31m\n",
      "\u001b[0m\u001b[?25h  Running setup.py clean for tensorflow-gpu\n",
      "Failed to build tensorflow-gpu\n",
      "\u001b[31mERROR: Could not build wheels for tensorflow-gpu, which is required to install pyproject.toml-based projects\u001b[0m\u001b[31m\n",
      "\u001b[0mNote: you may need to restart the kernel to use updated packages.\n"
     ]
    }
   ],
   "source": [
    "pip install tensorflow-gpu"
   ]
  },
  {
   "cell_type": "code",
   "execution_count": 1,
   "metadata": {},
   "outputs": [
    {
     "name": "stdout",
     "output_type": "stream",
     "text": [
      "Initial sample_data:\n",
      "[[0.5 0.7]\n",
      " [0.3 0.8]\n",
      " [0.1 0.9]]\n",
      "Updated sample_data:\n",
      "[[0.5        0.7        0.27085461]\n",
      " [0.3        0.8        0.77456136]\n",
      " [0.1        0.9        0.55678509]]\n"
     ]
    }
   ],
   "source": [
    "import numpy as np\n",
    "\n",
    "# Define the range for random values\n",
    "t_min = 0.0\n",
    "t_max = 1.0\n",
    "\n",
    "# Create a sample data array with two columns\n",
    "sample_data = np.array([[0.5, 0.7],\n",
    "                        [0.3, 0.8],\n",
    "                        [0.1, 0.9]])\n",
    "\n",
    "# Check the initial data\n",
    "print(\"Initial sample_data:\")\n",
    "print(sample_data)\n",
    "\n",
    "# Generate and assign a new column of random values within the specified range\n",
    "new_column = np.random.uniform(t_min, t_max, sample_data.shape[0])\n",
    "sample_data = np.column_stack((sample_data, new_column))\n",
    "\n",
    "# Check the updated data with the new column\n",
    "print(\"Updated sample_data:\")\n",
    "print(sample_data)\n"
   ]
  },
  {
   "cell_type": "code",
   "execution_count": 2,
   "metadata": {},
   "outputs": [
    {
     "data": {
      "text/plain": [
       "array([0.27085461, 0.77456136, 0.55678509])"
      ]
     },
     "execution_count": 2,
     "metadata": {},
     "output_type": "execute_result"
    }
   ],
   "source": [
    "new_column"
   ]
  }
 ],
 "metadata": {
  "kernelspec": {
   "display_name": "base",
   "language": "python",
   "name": "python3"
  },
  "language_info": {
   "codemirror_mode": {
    "name": "ipython",
    "version": 3
   },
   "file_extension": ".py",
   "mimetype": "text/x-python",
   "name": "python",
   "nbconvert_exporter": "python",
   "pygments_lexer": "ipython3",
   "version": "3.10.12"
  },
  "orig_nbformat": 4
 },
 "nbformat": 4,
 "nbformat_minor": 2
}
