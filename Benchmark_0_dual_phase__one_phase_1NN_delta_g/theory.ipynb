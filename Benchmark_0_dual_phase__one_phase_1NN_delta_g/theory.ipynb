{
  "cells": [
    {
      "attachments": {},
      "cell_type": "markdown",
      "metadata": {
        "id": "cpz3S4qnpqWE"
      },
      "source": [
        "# Resolution of a Phase-Field problem using PINN : Traveling wave \n"
      ]
    },
    {
      "attachments": {},
      "cell_type": "markdown",
      "metadata": {},
      "source": [
        "## Theory    "
      ]
    },
    {
      "attachments": {},
      "cell_type": "markdown",
      "metadata": {},
      "source": [
        "The Gibbs free energy of a multi-phase-field (MPF) system could be seen (from a first approach) as a summation of an interfacial free energy density [$J.m^{-3}$] (also called Grain-Boundary (GB)) $f^{GB}$ and a chemical one $f^{chem}$ as follows.  "
      ]
    },
    {
      "attachments": {},
      "cell_type": "markdown",
      "metadata": {},
      "source": [
        "$F = \\int_\\Omega f^{GB} + f^{chem}$\n",
        "\n"
      ]
    },
    {
      "attachments": {},
      "cell_type": "markdown",
      "metadata": {},
      "source": [
        "The other contributions could be added added to the MPF free energy forumaltuion, such as the mechanical ($f^{chem}$) and magnetic ones."
      ]
    },
    {
      "attachments": {},
      "cell_type": "markdown",
      "metadata": {},
      "source": [
        "$f^{GB} = \\sum _{\\alpha,\\beta=1..N,\\alpha > \\beta} \\frac{4\\sigma_{\\alpha\\beta}}{\\eta} \\Bigm\\{ -\\frac{\\eta^2}{\\pi^2} \\nabla\\phi_\\alpha \\cdot \\nabla\\phi_\\beta  + \\phi_\\alpha \\phi_\\beta \\Bigm\\}$"
      ]
    },
    {
      "attachments": {},
      "cell_type": "markdown",
      "metadata": {},
      "source": [
        " $\\phi_\\alpha$ is is the non-conservative phase-field variable corresponding to the phase $\\alpha$ (idem for $\\beta$), N is the number of components/crysals present in the system, $\\sigma_{\\alpha\\beta}$ is the interfacial energy while $\\eta$ is the intrface width.     "
      ]
    },
    {
      "attachments": {},
      "cell_type": "markdown",
      "metadata": {},
      "source": [
        "For a system with two-phases (binary), the previous expression becomes:"
      ]
    },
    {
      "attachments": {},
      "cell_type": "markdown",
      "metadata": {},
      "source": [
        "$f^{GB} =  \\frac{4\\sigma_{}}{\\eta} \\Bigm\\{ -\\frac{\\eta^2}{\\pi^2} \\nabla\\phi_ \\cdot \\nabla(1-\\phi_)  + \\phi (1-\\phi ) \\Bigm\\}$"
      ]
    },
    {
      "attachments": {},
      "cell_type": "markdown",
      "metadata": {},
      "source": [
        "or simply:"
      ]
    },
    {
      "attachments": {},
      "cell_type": "markdown",
      "metadata": {},
      "source": [
        "$f^{GB} =  \\frac{4\\sigma_{}}{\\eta} \\Bigm\\{\\phi (1-\\phi )+ \\frac{\\eta^2}{\\pi^2} (\\nabla\\phi) ^{2}  \\Bigm\\}$"
      ]
    },
    {
      "attachments": {},
      "cell_type": "markdown",
      "metadata": {},
      "source": [
        "Th temporal evolution of the non-conserved order parameter $\\phi$ follows the Allen-Cahn formualtion :"
      ]
    },
    {
      "attachments": {},
      "cell_type": "markdown",
      "metadata": {},
      "source": [
        "$\\frac{\\partial \\phi}{\\partial t}=-L. \\frac{\\delta F}{\\delta \\phi}$"
      ]
    },
    {
      "attachments": {},
      "cell_type": "markdown",
      "metadata": {},
      "source": [
        "where $L$ is the kinetic coefficient of the interface."
      ]
    },
    {
      "attachments": {},
      "cell_type": "markdown",
      "metadata": {},
      "source": [
        "in 1D, for a dual interface ($f^{GB}$ is noted hereafter $f^{int}$), when considereing only the interfacial energy $F = \\int_\\Omega f^{int} dx$, the AC formulation gives:"
      ]
    },
    {
      "attachments": {},
      "cell_type": "markdown",
      "metadata": {},
      "source": [
        "$\\frac{\\partial \\phi}{\\partial t}=-L \\Bigm\\{ \\frac{\\partial f^{int}}{\\partial \\phi} - \\nabla \\cdot \\frac{\\partial f^{int}}{\\partial (\\nabla \\phi)} \\Bigm\\}$"
      ]
    },
    {
      "attachments": {},
      "cell_type": "markdown",
      "metadata": {},
      "source": [
        "$\\frac{\\partial \\phi}{\\partial t} = L \\Bigg( \\frac{4\\sigma}{\\eta} \\bigg[ (2\\phi - 1 )+ 2 \\frac{\\eta^2}{\\pi^2} \\nabla^2 \\phi \\bigg] \\Bigg)$"
      ]
    },
    {
      "attachments": {},
      "cell_type": "markdown",
      "metadata": {},
      "source": [
        "This expression could be also expressed as :"
      ]
    },
    {
      "attachments": {},
      "cell_type": "markdown",
      "metadata": {},
      "source": [
        "$\\dot{\\phi}=\\mu \\sigma\\left(\\nabla^2 \\phi+\\frac{\\pi^2}{2 \\eta^2}(2 \\phi-1)\\right)$"
      ]
    },
    {
      "attachments": {},
      "cell_type": "markdown",
      "metadata": {},
      "source": [
        "where: $\\mu=\\frac{8\\eta L}{\\pi^{2}} $"
      ]
    },
    {
      "attachments": {},
      "cell_type": "markdown",
      "metadata": {},
      "source": [
        "$[\\mu] = \\frac{\\text{L}^4}{\\text{T}}E $   : $    {m}^4{J}^{-1}{s}^{-1}$"
      ]
    },
    {
      "attachments": {},
      "cell_type": "markdown",
      "metadata": {},
      "source": [
        "$[\\sigma] = \\frac{\\text{E}}{\\text{L}^2}$  : $    {J}^{}{m}^{-2}$"
      ]
    },
    {
      "attachments": {},
      "cell_type": "markdown",
      "metadata": {},
      "source": [
        "$[L] =  {m}^3{J}^{-1}{s}^{-1}$"
      ]
    },
    {
      "attachments": {},
      "cell_type": "markdown",
      "metadata": {},
      "source": [
        "We should note that the previous developements concern only the interface contrubution. However, in order to garantee a moving interface, the non interfacial contributions should be taken into account: "
      ]
    },
    {
      "attachments": {},
      "cell_type": "markdown",
      "metadata": {},
      "source": [
        "$f^{dual}=f^{int} + h(\\phi) \\Delta g$"
      ]
    },
    {
      "attachments": {},
      "cell_type": "markdown",
      "metadata": {},
      "source": [
        "$[\\Delta g] =  {m}{s}^{-1}$"
      ]
    },
    {
      "attachments": {},
      "cell_type": "markdown",
      "metadata": {},
      "source": [
        "\n",
        "where $h(\\phi)$ is a coupling function between $0$ and $1$ monotonous in $\\phi$ in the range between $0$ and $1$ chosen in order to ensure a traveling wave solution. \n",
        "$\\Delta g$ corresponds to the non-interfacial free enegry densities. \n"
      ]
    },
    {
      "attachments": {},
      "cell_type": "markdown",
      "metadata": {},
      "source": [
        "$h(\\phi) = \\frac1\\pi[(4\\phi-2)\\sqrt{\\phi(1-\\phi)} + arcsin(2\\phi-1)]$"
      ]
    },
    {
      "cell_type": "code",
      "execution_count": 9,
      "metadata": {},
      "outputs": [
        {
          "data": {
            "image/png": "[encoded data removed]",
            "text/plain": [
              "<Figure size 640x480 with 1 Axes>"
            ]
          },
          "metadata": {},
          "output_type": "display_data"
        }
      ],
      "source": [
        "\n",
        "# Define the function h(phi)\n",
        "def h(phi):\n",
        "    return (1/np.pi) * ((4*phi-2) * np.sqrt(phi*(1-phi)) + np.arcsin(2*phi-1))\n",
        "\n",
        "# Create an array of phi values between 0 and 1\n",
        "phi_values = np.linspace(0, 1, 1000)\n",
        "\n",
        "# Evaluate the function h(phi) for the phi values\n",
        "h_values = h(phi_values)\n",
        "\n",
        "# Plot h(phi) as a function of phi\n",
        "plt.plot(phi_values, h_values)\n",
        "plt.xlabel('$\\phi$')\n",
        "plt.ylabel('$h(\\phi)$')\n",
        "plt.title('The coupling function $h(\\phi)$')\n",
        "plt.show()\n"
      ]
    },
    {
      "attachments": {},
      "cell_type": "markdown",
      "metadata": {},
      "source": [
        "$\\frac\\partial  {\\partial\\phi} h(\\phi) = \\frac8\\pi \\sqrt{\\phi(1-\\phi)}$"
      ]
    },
    {
      "attachments": {},
      "cell_type": "markdown",
      "metadata": {},
      "source": [
        "### Main equation"
      ]
    },
    {
      "attachments": {},
      "cell_type": "markdown",
      "metadata": {},
      "source": [
        "$\\Rightarrow$ The evolution of the order parameter with respect to time is described by this equation: "
      ]
    },
    {
      "attachments": {},
      "cell_type": "markdown",
      "metadata": {},
      "source": [
        "$\\dot{\\phi}=\\mu  \\left[ \\sigma \\left(\\nabla^2 \\phi+\\frac{\\pi^2}{2 \\eta^2}(2\\phi-1)\\right) +h(\\phi) \\Delta g \\right] $"
      ]
    },
    {
      "attachments": {},
      "cell_type": "markdown",
      "metadata": {},
      "source": [
        "where the left side descrive the interfacial changes while the right one controls the moving of the interface"
      ]
    },
    {
      "attachments": {},
      "cell_type": "markdown",
      "metadata": {},
      "source": [
        "### Plot of the analatyical solution"
      ]
    },
    {
      "attachments": {},
      "cell_type": "markdown",
      "metadata": {
        "id": "IajVylmQ0_NG"
      },
      "source": [
        "In order to validate a first PINN solution using AC, we take first the exact solution in 1D:"
      ]
    },
    {
      "attachments": {},
      "cell_type": "markdown",
      "metadata": {},
      "source": [
        "\\begin{equation}\n",
        "\\phi(x, t)=\\left\\{\\begin{array}{lll}\n",
        "1 & \\text { for } & x<v_n t-\\frac{\\eta}{2} \\\\\n",
        "\\frac{1}{2}-\\frac{1}{2} \\sin \\left(\\frac{\\pi}{\\eta}\\left(x-v_n t\\right)\\right) & \\text { for } & v_n t-\\frac{\\eta}{2} \\leq x<v_n t+\\frac{\\eta}{2} \\\\\n",
        "0 & \\text { for } & x \\geq v_n t+\\frac{\\eta}{2}\n",
        "\\end{array}\\right.\n",
        "\\end{equation}"
      ]
    },
    {
      "attachments": {},
      "cell_type": "markdown",
      "metadata": {},
      "source": [
        "where $v_n$ is the interface velocity or the velocity of the wave traveling in positive x direction"
      ]
    },
    {
      "attachments": {},
      "cell_type": "markdown",
      "metadata": {},
      "source": [
        "$\\nabla^{2} \\phi=\\frac{\\pi^2}{2\\eta^2}\\sin\\left(\\frac{\\pi(r-\\mathrm{R_0})}{\\eta}\\right) - \\frac{\\pi}{r\\eta}\\cos\\left(\\frac{\\pi(r-\\mathrm{R_0})}{\\eta}\\right)$"
      ]
    },
    {
      "attachments": {},
      "cell_type": "markdown",
      "metadata": {},
      "source": [
        "## Governing equations"
      ]
    },
    {
      "attachments": {},
      "cell_type": "markdown",
      "metadata": {},
      "source": [
        "$\n",
        "\\frac{\\partial \\phi}{\\partial t} =\\mu \\left[\\sigma \\left(\\frac{\\partial^2 \\phi}{\\partial x^2} + \\frac{\\partial^2 \\phi}{\\partial y^2}\\right) + h(\\phi) \\Delta_g \\right] \n",
        "$"
      ]
    },
    {
      "attachments": {},
      "cell_type": "markdown",
      "metadata": {},
      "source": [
        "where $\\phi$ is the unknown function, $t$ is the time variable, $x$ and $y$ are the spatial variables, $\\mu$, $\\sigma$, $\\eta$, $R_0$, and $\\delta_g$ are constants, and $h(\\phi)$ is a function of $\\phi$."
      ]
    },
    {
      "attachments": {},
      "cell_type": "markdown",
      "metadata": {},
      "source": [
        "right_side_eqn = self.mu * (self.sigma * (lap_phi + phi_term) + self.h(phi) * self.delta_g)"
      ]
    },
    {
      "attachments": {},
      "cell_type": "markdown",
      "metadata": {},
      "source": [
        "$\\phi_{term} = \\frac{\\pi^2}{2\\eta^2}(2\\phi - 1)$"
      ]
    }
  ],
  "metadata": {
    "colab": {
      "provenance": []
    },
    "kernelspec": {
      "display_name": "base",
      "language": "python",
      "name": "python3"
    },
    "language_info": {
      "codemirror_mode": {
        "name": "ipython",
        "version": 3
      },
      "file_extension": ".py",
      "mimetype": "text/x-python",
      "name": "python",
      "nbconvert_exporter": "python",
      "pygments_lexer": "ipython3",
      "version": "3.10.6"
    },
    "vscode": {
      "interpreter": {
        "hash": "3f1eaf796cd438c1c36e8259311fa4d99193c56d874e270fd8d60e8202299779"
      }
    }
  },
  "nbformat": 4,
  "nbformat_minor": 0
}
